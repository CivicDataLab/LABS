{
 "cells": [
  {
   "cell_type": "markdown",
   "metadata": {},
   "source": [
    "## Language Complexity through Complex Networks"
   ]
  },
  {
   "cell_type": "markdown",
   "metadata": {},
   "source": [
    "The metrics extracted from the complex networks respresenting text and pattern recognition methods to analyse complexity in texts.\n",
    "\n",
    "The correlation is established between language complexity and network topology."
   ]
  },
  {
   "cell_type": "markdown",
   "metadata": {},
   "source": [
    "### Intro"
   ]
  },
  {
   "cell_type": "markdown",
   "metadata": {},
   "source": [
    "Networks represent texts, whose topology is examined through several metrics. The patterns emerging from the topological features are investigated with clustering to correlate with textual complexity."
   ]
  },
  {
   "cell_type": "code",
   "execution_count": 1,
   "metadata": {
    "colab": {},
    "colab_type": "code",
    "id": "qVDDZbrbesHc"
   },
   "outputs": [],
   "source": [
    "# imports\n",
    "import matplotlib.pyplot as plt\n",
    "import networkx as nx\n",
    "from typing import List, Tuple\n",
    "%matplotlib inline"
   ]
  },
  {
   "cell_type": "code",
   "execution_count": 2,
   "metadata": {},
   "outputs": [],
   "source": [
    "import spacy\n",
    "nlp = spacy.load('en_core_web_sm')"
   ]
  },
  {
   "cell_type": "code",
   "execution_count": 3,
   "metadata": {
    "colab": {},
    "colab_type": "code",
    "id": "2qeZm5bBesHg"
   },
   "outputs": [],
   "source": [
    "from itertools import combinations\n",
    "\n",
    "\n",
    "def make_edgelist(word_list: List, word_distance: int) -> List[Tuple]:\n",
    "    \"\"\"\n",
    "    Creates edgelist by taking list of words and word_distance. \n",
    "    For example, if word_distance is equal to 2, \n",
    "    two words are connected if there was at most one intermediate\n",
    "    word separating them in the preprocessed text.\n",
    "    \"\"\"\n",
    "    edgelist = []\n",
    "    for i in range(len(word_list)-word_distance):\n",
    "        subset = word_list[i:i+1+word_distance]\n",
    "        comb = combinations(subset, 2)\n",
    "        for apair in comb:\n",
    "            edgelist.append(apair)\n",
    "    return edgelist"
   ]
  },
  {
   "cell_type": "markdown",
   "metadata": {
    "colab_type": "text",
    "id": "3N4ssuc-esHj"
   },
   "source": [
    "### Network Formation"
   ]
  },
  {
   "cell_type": "code",
   "execution_count": 4,
   "metadata": {
    "colab": {},
    "colab_type": "code",
    "id": "uf-W-g-TesHj"
   },
   "outputs": [],
   "source": [
    "demo = nx.Graph()\n",
    "sent = \"yellow fog rub back window pane yellow smoke rub muzzle window pane\".split()\n",
    "demo.add_edges_from(make_edgelist(sent, 2))"
   ]
  },
  {
   "cell_type": "code",
   "execution_count": 5,
   "metadata": {
    "colab": {
     "base_uri": "https://localhost:8080/",
     "height": 255
    },
    "colab_type": "code",
    "id": "KejzfHvCesHm",
    "outputId": "1146a3bd-121d-481c-b374-42e245780e1c"
   },
   "outputs": [
    {
     "name": "stderr",
     "output_type": "stream",
     "text": [
      "/home/akhilesh/venv/p3/lib/python3.7/site-packages/networkx/drawing/nx_pylab.py:579: MatplotlibDeprecationWarning: \n",
      "The iterable function was deprecated in Matplotlib 3.1 and will be removed in 3.3. Use np.iterable instead.\n",
      "  if not cb.iterable(width):\n"
     ]
    },
    {
     "data": {
      "image/png": "[encoded data removed]",
      "text/plain": [
       "<Figure size 432x288 with 1 Axes>"
      ]
     },
     "metadata": {},
     "output_type": "display_data"
    }
   ],
   "source": [
    "nx.draw_networkx(demo)"
   ]
  },
  {
   "cell_type": "markdown",
   "metadata": {},
   "source": [
    "#### Pre-processing"
   ]
  },
  {
   "cell_type": "code",
   "execution_count": 6,
   "metadata": {
    "colab": {},
    "colab_type": "code",
    "id": "Gvq80VRyesHs"
   },
   "outputs": [],
   "source": [
    "import pandas as pd"
   ]
  },
  {
   "cell_type": "code",
   "execution_count": 13,
   "metadata": {
    "colab": {},
    "colab_type": "code",
    "id": "CQ5jwIweesHv"
   },
   "outputs": [],
   "source": [
    "# data = pd.read_csv(\"data/stories.csv\").dropna()"
   ]
  },
  {
   "cell_type": "code",
   "execution_count": 14,
   "metadata": {
    "colab": {},
    "colab_type": "code",
    "id": "Q2tF63w2esHx"
   },
   "outputs": [],
   "source": [
    "# english_data = data[data[\"story_langugage\"] == \"English\"]"
   ]
  },
  {
   "cell_type": "code",
   "execution_count": 8,
   "metadata": {},
   "outputs": [],
   "source": [
    "import os\n",
    "idir = \"/home/akhilesh/civicdatalab/samantar_parsers/data/txts/\"\n",
    "df = pd.DataFrame()\n",
    "all_data = []\n",
    "for filename in os.listdir(idir):\n",
    "    if filename.endswith('.txt'):\n",
    "        with open(idir + filename, 'r') as f:\n",
    "            data = f.readlines()\n",
    "        stripped_data = list(map(lambda x: x.strip(), data))\n",
    "        clean_data = ' '.join(stripped_data)\n",
    "        corr = (filename.split(\".\")[0], clean_data)\n",
    "        all_data.append(corr)"
   ]
  },
  {
   "cell_type": "code",
   "execution_count": 10,
   "metadata": {},
   "outputs": [],
   "source": [
    "df = pd.DataFrame(all_data)\n",
    "df.columns = ['year', 'content']"
   ]
  },
  {
   "cell_type": "code",
   "execution_count": null,
   "metadata": {},
   "outputs": [],
   "source": []
  },
  {
   "cell_type": "code",
   "execution_count": 12,
   "metadata": {},
   "outputs": [],
   "source": [
    "import nltk"
   ]
  },
  {
   "cell_type": "code",
   "execution_count": 13,
   "metadata": {},
   "outputs": [
    {
     "name": "stderr",
     "output_type": "stream",
     "text": [
      "[nltk_data] Downloading package stopwords to\n",
      "[nltk_data]     /home/akhilesh/nltk_data...\n",
      "[nltk_data]   Unzipping corpora/stopwords.zip.\n"
     ]
    },
    {
     "data": {
      "text/plain": [
       "True"
      ]
     },
     "execution_count": 13,
     "metadata": {},
     "output_type": "execute_result"
    }
   ],
   "source": [
    "nltk.download('stopwords')"
   ]
  },
  {
   "cell_type": "code",
   "execution_count": 14,
   "metadata": {
    "colab": {},
    "colab_type": "code",
    "id": "_55p44J_esIC"
   },
   "outputs": [],
   "source": [
    "from nltk.corpus import stopwords\n",
    "stop = stopwords.words('english')"
   ]
  },
  {
   "cell_type": "code",
   "execution_count": 15,
   "metadata": {
    "colab": {},
    "colab_type": "code",
    "id": "4XPJthuZlx6h"
   },
   "outputs": [],
   "source": [
    "# have stopword with length more than 1.\n",
    "stop = [x for x in stop if len(x) > 1]"
   ]
  },
  {
   "cell_type": "code",
   "execution_count": 16,
   "metadata": {
    "colab": {},
    "colab_type": "code",
    "id": "sFrukmdui9Vc"
   },
   "outputs": [],
   "source": [
    "# adding nbsp and i to stopwords\n",
    "stop.extend([\"nbsp\", \"i\"])"
   ]
  },
  {
   "cell_type": "code",
   "execution_count": 17,
   "metadata": {
    "colab": {},
    "colab_type": "code",
    "id": "PrMv71jwin5v"
   },
   "outputs": [],
   "source": [
    "def is_english(text: str) -> bool:\n",
    "    try:\n",
    "        text.encode(encoding='utf-8').decode('ascii')\n",
    "    except UnicodeDecodeError:\n",
    "        return False\n",
    "    else:\n",
    "        return True"
   ]
  },
  {
   "cell_type": "code",
   "execution_count": 19,
   "metadata": {},
   "outputs": [
    {
     "data": {
      "text/html": [
       "<div>\n",
       "<style scoped>\n",
       "    .dataframe tbody tr th:only-of-type {\n",
       "        vertical-align: middle;\n",
       "    }\n",
       "\n",
       "    .dataframe tbody tr th {\n",
       "        vertical-align: top;\n",
       "    }\n",
       "\n",
       "    .dataframe thead th {\n",
       "        text-align: right;\n",
       "    }\n",
       "</style>\n",
       "<table border=\"1\" class=\"dataframe\">\n",
       "  <thead>\n",
       "    <tr style=\"text-align: right;\">\n",
       "      <th></th>\n",
       "      <th>year</th>\n",
       "      <th>content</th>\n",
       "    </tr>\n",
       "  </thead>\n",
       "  <tbody>\n",
       "    <tr>\n",
       "      <td>0</td>\n",
       "      <td>1973_-_1974_</td>\n",
       "      <td>SPEECH OF SHRI Y.B.CHAVAN MINISTER OF FINANCE ...</td>\n",
       "    </tr>\n",
       "    <tr>\n",
       "      <td>1</td>\n",
       "      <td>1976_-_1977_</td>\n",
       "      <td>SPEECH OF SHRI C.SUBRAMANIAM MINISTER OF FINAN...</td>\n",
       "    </tr>\n",
       "    <tr>\n",
       "      <td>2</td>\n",
       "      <td>1958_-_1959_</td>\n",
       "      <td>SPEECH OF SHRI JAWAHAR LAL NEHRU  PRIME MINIST...</td>\n",
       "    </tr>\n",
       "    <tr>\n",
       "      <td>3</td>\n",
       "      <td>2001_-_2002_</td>\n",
       "      <td>1  Budget  2001-2002  Speech    of  Shri  Yash...</td>\n",
       "    </tr>\n",
       "    <tr>\n",
       "      <td>4</td>\n",
       "      <td>1995_-_1996_</td>\n",
       "      <td>1  Budget  1995-96  Speech  of  Shri  Manmohan...</td>\n",
       "    </tr>\n",
       "  </tbody>\n",
       "</table>\n",
       "</div>"
      ],
      "text/plain": [
       "           year                                            content\n",
       "0  1973_-_1974_  SPEECH OF SHRI Y.B.CHAVAN MINISTER OF FINANCE ...\n",
       "1  1976_-_1977_  SPEECH OF SHRI C.SUBRAMANIAM MINISTER OF FINAN...\n",
       "2  1958_-_1959_  SPEECH OF SHRI JAWAHAR LAL NEHRU  PRIME MINIST...\n",
       "3  2001_-_2002_  1  Budget  2001-2002  Speech    of  Shri  Yash...\n",
       "4  1995_-_1996_  1  Budget  1995-96  Speech  of  Shri  Manmohan..."
      ]
     },
     "execution_count": 19,
     "metadata": {},
     "output_type": "execute_result"
    }
   ],
   "source": [
    "df.head()"
   ]
  },
  {
   "cell_type": "code",
   "execution_count": 20,
   "metadata": {
    "colab": {},
    "colab_type": "code",
    "id": "vxmfnTmrqZOj"
   },
   "outputs": [],
   "source": [
    "import re\n",
    "# split by punctuations\n",
    "l1_content = df.content.apply(lambda x: re.findall(r\"[\\w']+|[.,!?;]\", str(x).lower()))"
   ]
  },
  {
   "cell_type": "code",
   "execution_count": 21,
   "metadata": {
    "colab": {},
    "colab_type": "code",
    "id": "jyLajMJfnUXY"
   },
   "outputs": [],
   "source": [
    "# remove punctuations\n",
    "import string\n",
    "main_lst = []\n",
    "for item in l1_content:\n",
    "  puncs_removed = []\n",
    "  for i in item:\n",
    "    i = i.replace('&nbsp', '')\n",
    "    \n",
    "    if i and i!='i' and i not in string.punctuation:\n",
    "      puncs_removed.append(i)\n",
    "  main_lst.append(puncs_removed)"
   ]
  },
  {
   "cell_type": "code",
   "execution_count": 22,
   "metadata": {
    "colab": {},
    "colab_type": "code",
    "id": "-mrRixK7esIE"
   },
   "outputs": [],
   "source": [
    "# removing stopwords\n",
    "# stopwords_removed = l1_content.apply(lambda x: [item for item in str(x).split() if item not in stop and isEnglish(item)])"
   ]
  },
  {
   "cell_type": "code",
   "execution_count": 23,
   "metadata": {
    "colab": {},
    "colab_type": "code",
    "id": "wim1bzbuoSMN"
   },
   "outputs": [],
   "source": [
    "# check if word is english and is not a stopword\n",
    "cleaned = []\n",
    "for sentence in main_lst:\n",
    "  english_cleaned = []\n",
    "  for word in sentence:\n",
    "    if is_english(word) and word not in stop:\n",
    "      english_cleaned.append(word)\n",
    "  cleaned.append(english_cleaned)"
   ]
  },
  {
   "cell_type": "code",
   "execution_count": 24,
   "metadata": {
    "colab": {},
    "colab_type": "code",
    "id": "zGPRK4yvupak"
   },
   "outputs": [],
   "source": [
    "# lemmatizing\n",
    "sentences = []\n",
    "lemmatized = []\n",
    "for s in cleaned:\n",
    "  sentence = \" \".join(s)\n",
    "  sentences.append(sentence)\n",
    "  doc = nlp(sentence)\n",
    "  lemm = [token.lemma_ for token in doc]\n",
    "  lemmatized.append(lemm)"
   ]
  },
  {
   "cell_type": "code",
   "execution_count": 26,
   "metadata": {
    "colab": {},
    "colab_type": "code",
    "id": "-Ln9IQ24xSMG"
   },
   "outputs": [],
   "source": [
    "# creating new dataframe\n",
    "data = pd.DataFrame()\n",
    "\n",
    "data['lemmatized'] = lemmatized\n",
    "data['content'] = df['content'].tolist()\n",
    "# data['level'] = df['reading_level_updated'].tolist()"
   ]
  },
  {
   "cell_type": "code",
   "execution_count": 27,
   "metadata": {
    "colab": {},
    "colab_type": "code",
    "id": "SUdT6n9Ay2Nz"
   },
   "outputs": [],
   "source": [
    "# this links words whenever they appear immediately adjacent in the pre-processed text\n",
    "data['edgelist'] = data['lemmatized'].apply(lambda x: make_edgelist(x, 1))"
   ]
  },
  {
   "cell_type": "code",
   "execution_count": 29,
   "metadata": {
    "colab": {},
    "colab_type": "code",
    "id": "z82bWQqk1F-p"
   },
   "outputs": [],
   "source": [
    "# building graphs for each row of the dataframe\n",
    "graphs = []\n",
    "for item in data['edgelist']:\n",
    "  G = nx.Graph()\n",
    "  G.add_edges_from(item)\n",
    "  graphs.append(G)"
   ]
  },
  {
   "cell_type": "code",
   "execution_count": 30,
   "metadata": {},
   "outputs": [],
   "source": [
    "data['graphs'] = graphs"
   ]
  },
  {
   "cell_type": "code",
   "execution_count": 31,
   "metadata": {},
   "outputs": [
    {
     "data": {
      "text/plain": [
       "<networkx.classes.graph.Graph at 0x7f487dcd1250>"
      ]
     },
     "execution_count": 31,
     "metadata": {},
     "output_type": "execute_result"
    }
   ],
   "source": [
    "data['graphs'][0]"
   ]
  },
  {
   "cell_type": "markdown",
   "metadata": {},
   "source": [
    "### Complex Netwoek metrics"
   ]
  },
  {
   "cell_type": "markdown",
   "metadata": {},
   "source": [
    "The global measurements are computed using the first two statistical moments of the distribution: \n",
    "\n",
    "$$\n",
    "\\mu = n^{-1} \\sum\\mu(i) \n",
    "$$\n",
    "and\n",
    "\n",
    "$$\n",
    "\\nabla \\mu = n^{-1} \\sum (\\mu(i) - (\\mu))^2\n",
    "$$\n",
    "\n",
    "where n is the number if nodes and $\\mu(i)$ is the value of metric $\\mu$ computed for node $i$.\n",
    "\n",
    "The metrics to characterize texts are: betweenness (B), clustering coefficent (C) and average shortest path (l)."
   ]
  },
  {
   "cell_type": "code",
   "execution_count": 32,
   "metadata": {
    "colab": {},
    "colab_type": "code",
    "id": "ocFqiOh517LU"
   },
   "outputs": [],
   "source": [
    "data['betweenness(B)'] = [nx.betweenness_centrality(graph) for graph in data['graphs']]"
   ]
  },
  {
   "cell_type": "code",
   "execution_count": 33,
   "metadata": {},
   "outputs": [],
   "source": [
    "data['len_of_lemmatized'] = data['lemmatized'].apply(lambda x: len(x))\n",
    "data = data.drop(data[data.len_of_lemmatized == 0].index)"
   ]
  },
  {
   "cell_type": "code",
   "execution_count": 34,
   "metadata": {
    "colab": {},
    "colab_type": "code",
    "id": "Xlqs4mqBXCGv"
   },
   "outputs": [],
   "source": [
    "data['clustering(C)'] = [nx.clustering(graph) for graph in data['graphs']]"
   ]
  },
  {
   "cell_type": "code",
   "execution_count": 35,
   "metadata": {
    "colab": {},
    "colab_type": "code",
    "id": "P3fmt6FuXOZ5"
   },
   "outputs": [],
   "source": [
    "data['avg_shortest_path_length(l)'] = [nx.average_shortest_path_length(graph) for graph in data['graphs']]"
   ]
  },
  {
   "cell_type": "code",
   "execution_count": 45,
   "metadata": {
    "colab": {},
    "colab_type": "code",
    "id": "kFqHTIyXVMew"
   },
   "outputs": [],
   "source": [
    "data.to_csv(\"analysis_using_complex_networks.csv\")"
   ]
  },
  {
   "cell_type": "code",
   "execution_count": 46,
   "metadata": {},
   "outputs": [],
   "source": [
    "data = pd.read_csv('analysis_using_complex_networks.csv')"
   ]
  },
  {
   "cell_type": "code",
   "execution_count": 76,
   "metadata": {},
   "outputs": [
    {
     "data": {
      "text/plain": [
       "\"{'speech': 0, 'shri': 0, 'y': 0, 'b': 0, 'chavan': 0, 'minister': 0, 'finance': 0.05128205128205128, 'introduce': 0.1111111111111111, 'budget': 0.053877551020408164, 'year': 0.03620474406991261, '1973': 0.09333333333333334, '74': 0.058823529411764705, 'sir': 0, 'rise': 0.14285714285714285, 'present': 0.03508771929824561, 'revise': 0, 'estimate': 0.16176470588235295, '1972': 0.06719367588932806, '73': 0.0915032679738562, '2': 0.12727272727272726, 'central': 0.12681159420289856, 'government': 0.028282828282828285, 'merely': 0, 'exercise': 0, 'balance': 0.0380952380952381, 'revenue': 0.05026455026455026, 'expenditure': 0.03968253968253968, 'primary': 0, 'role': 0, 'today': 0, 'a': 0.012281339635599726, 'major': 0.0641025641025641, 'instrument': 0, 'realisation': 0.06666666666666667, 'basic': 0.036231884057971016, 'social': 0.038461538461538464, 'economic': 0.031578947368421054, 'objective': 0.045454545454545456, 'firmly': 0, 'commit': 0, 'accelerate': 0, 'growth': 0.034482758620689655, 'framework': 0.3333333333333333, 'great': 0.015151515151515152, 'justice': 0, 'self': 0.05128205128205128, 'reliance': 0, 'proposal': 0.035748792270531404, 'shall': 0.03684210526315789, 'later': 0, 'aim': 0.06666666666666667, 'achieve': 0.03296703296703297, 'proper': 0, 'appreciation': 0, 'broad': 0, 'context': 0, 'strategy': 0.06666666666666667, 'realise': 0, 'necessary': 0.06493506493506493, 'bear': 0.07142857142857142, 'mind': 0, 'background': 0, 'state': 0.03991291727140784, 'economy': 0.03208556149732621, 'prospect': 0.06666666666666667, 'survey': 0, 'parliament': 0.3333333333333333, 'day': 0, 'ago': 0, 'cover': 0.07142857142857142, 'territory': 0.09523809523809523, 'fairly': 0, 'extensively': 0, 'therefore': 0.04678362573099415, 'brief': 0, 'describe': 0, 'salient': 0, 'feature': 0, 'current': 0.032679738562091505, 'situation': 0.03636363636363636, 'condition': 0.015151515151515152, '3': 0.14285714285714285, 'return': 0, 'refugee': 0, 'homeland': 0, 'emergence': 0, 'bangladesh': 0, 'friendly': 0, 'independent': 0, 'sovereign': 0, 'country': 0.036231884057971016, 'hope': 0.08888888888888889, 'would': 0.05689900426742532, 'devote': 0, 'entire': 0, 'energy': 0, 'resource': 0.03414634146341464, 'unfinishe': 0, 'task': 0.015151515151515152, 'reconstruction': 0, 'development': 0.023809523809523808, 'certainly': 0, 'recognise': 0, 'begin': 0.16666666666666666, 'go': 0.03571428571428571, 'easy': 0.06666666666666667, 'course': 0.14285714285714285, 'last': 0.10714285714285714, 'point': 0, 'resilience': 0, 'strength': 0, 'display': 0, '1971': 0.06060606060606061, '72': 0.17857142857142858, 'could': 0.13333333333333333, 'give': 0.0761904761904762, '-PRON-': 0, 'confidence': 0, 'little': 0, 'room': 0, 'complacency': 0, 'time': 0.05, 'warn': 0, 'event': 0, 'continue': 0.05533596837944664, 'cast': 0, 'shadow': 0, 'strain': 0, 'stress': 0, 'pass': 0, 'however': 0.03508771929824561, 'wholly': 0, 'foresee': 0, '4': 0.2, 'failure': 0, 'monsoon': 0, 'summer': 0, 'create': 0, 'severe': 0, 'drought': 0.04411764705882353, 'scarcity': 1.0, 'several': 0, 'part': 0.018115942028985508, 'lead': 0, 'extensive': 0, 'loss': 0, 'crop': 0, 'shortage': 0, 'fodder': 0, 'paucity': 0, 'drinking': 0, 'water': 0, 'grave': 0, 'hardship': 0, 'suffering': 0, 'deeply': 0, 'concerned': 0, 'human': 0, 'result': 0.01098901098901099, 'unprecedented': 0, 'adverse': 0, 'order': 0.06159420289855073, 'meet': 0.07272727272727272, 'challenge': 0, 'large': 0.0989010989010989, 'effort': 0.04743083003952569, 'make': 0.047619047619047616, 'provide': 0.08095238095238096, 'maximum': 0, 'possible': 0.022222222222222223, 'relief': 0.026143790849673203, 'live': 0.06666666666666667, '1': 0.22727272727272727, 'affect': 0.0380952380952381, 'area': 0.02564102564102564, 'long': 0.041666666666666664, 'require': 0.08974358974358974, 'unfortunately': 0, 'second': 0.06666666666666667, 'succession': 0, 'production': 0.016129032258064516, 'food': 0.01818181818181818, 'grain': 0.05555555555555555, 'kharif': 0, 'season': 0, 'suffer': 0, 'serious': 0, 'set': 0.02564102564102564, 'back': 0, 'adversely': 0, 'procurement': 0, 'distribution': 0.09523809523809523, 'also': 0.041025641025641026, 'affected': 0, 'important': 0.022222222222222223, 'commercial': 0, 'oil': 0.05555555555555555, 'seed': 0.16666666666666666, 'raw': 0.01282051282051282, 'jute': 0.1, 'imbalance': 0, 'certain': 0.026515151515151516, 'strategic': 0, 'sector': 0, 'produce': 0.07575757575757576, 'necessity': 0, 'life': 0, 'magnify': 0, '5': 0.11538461538461539, 'abnormal': 0, 'increase': 0.041742286751361164, 'price': 0.03676470588235294, 'take': 0.03333333333333333, 'place': 0.03571428571428571, 'basically': 1.0, 'reflection': 0, 'wholesale': 0.3333333333333333, 'index': 0.13333333333333333, 'period': 0.051470588235294115, 'april': 0.2, 'end': 0.1111111111111111, 'january': 1.0, 'register': 0.3333333333333333, '9': 0.07142857142857142, 'per': 0.06349206349206349, 'cent': 0.036544850498338874, 'compare': 0.3333333333333333, '7': 0.18181818181818182, 'corresponding': 0.16666666666666666, 'article': 0, 'crucial': 0, 'factor': 0, 'contribute': 0, 'conscious': 0, 'fact': 0, 'movement': 0, 'add': 0.16666666666666666, 'greatly': 0, 'weak': 0, 'vulnerable': 0, 'section': 0, 'society': 0.17857142857142858, 'thrust': 0, 'policy': 0.16666666666666666, 'reduce': 0.021052631578947368, '6': 0.13333333333333333, 'intend': 0.029411764705882353, 'detail': 0.047619047619047616, 'measure': 0.05384615384615385, 'adopt': 0.06666666666666667, 'arrest': 0, 'relieve': 0, 'distress': 0.16666666666666666, 'cause': 0.1, 'honourable': 0.016666666666666666, 'member': 0.038461538461538464, 'aware': 0.09523809523809523, 'determined': 0, 'stand': 0, 'people': 0, 'whatever': 0, 'term': 0.03571428571428571, 'money': 0, 'available': 0.15555555555555556, 'public': 0.05454545454545454, 'system': 0.06060606060606061, 'strengthen': 0.14285714285714285, 'wise': 0, 'emergency': 0.13333333333333333, 'programme': 0.0457516339869281, 'launch': 0.2, 'agricultural': 0.030303030303030304, 'rabi': 0, 'offset': 0, 'output': 0, 'r': 0.0318096765570703, '190': 1.0, 'crore': 0.02435765673175745, 'indication': 0, 'significant': 0.14285714285714285, 'confident': 0, 'reduction': 0, 'pressure': 0.047619047619047616, 'precautionary': 1.0, 'arrange': 0, 'import': 0.011695906432748537, 'two': 0, 'million': 0, 'tonne': 0, 'early': 0, 'cost': 0.13333333333333333, '160': 1.0, 'foreign': 0, 'exchange': 0, 'scope': 0, 'emerge': 0, 'trend': 0, 'keep': 0, 'continuous': 0, 'watch': 0, 'arrangement': 0, 'steamline': 0, 'bring': 0.06666666666666667, 'sharp': 0.06666666666666667, 'focus': 0, 'heavy': 0, 'dependence': 0, 'indian': 0, 'agriculture': 0.07142857142857142, 'rain': 0, 'pointed': 0, 'reminder': 0, 'urgent': 0, 'need': 0.06535947712418301, 'expand': 0.06666666666666667, 'irrigation': 0, 'evolve': 0, 'suitable': 0, 'technique': 0, 'dry': 0, 'farm': 0, 'essential': 0, 'element': 0, 'design': 0.10714285714285714, 'instability': 0, 'scale': 0, 'serve': 0.2, 'emphasise': 0, 'press': 0, 'well': 0.06842105263157895, 'regional': 0.16666666666666666, 'evenness': 0, 'level': 0.07017543859649122, '8': 0.17777777777777778, 'acceleration': 0, 'rate': 0.04862119013062409, 'industrial': 0.015789473684210527, 'hearten': 1.0, 'close': 0, 'previous': 1.0, 'power': 0.04411764705882353, 'outcome': 0.16666666666666666, 'still': 0.17857142857142858, 'favourable': 0.13333333333333333, 'number': 0.0641025641025641, 'industry': 0.016129032258064516, 'recovery': 0, 'rapid': 0.08333333333333333, 'textile': 0.1111111111111111, 'decline': 0, 'precede': 0.16666666666666666, 'sustain': 0, 'come': 0.047619047619047616, 'base': 0.030303030303030304, 'past': 0.015151515151515152, 'glad': 0.022222222222222223, 'say': 0.06666666666666667, 'export': 0.03333333333333333, 'front': 0, 'look': 0, 'encouraging': 0, '23': 0, 'first': 0.05847953216374269, 'eight': 0, 'month': 0, 'good': 0.04678362573099415, 'performance': 0, 'particularly': 0.022222222222222223, 'allowance': 0, 'uncertainty': 0, 'prevail': 0.044444444444444446, 'market': 0.06666666666666667, 'remember': 0, 'help': 0.0196078431372549, 'whose': 0, 'continuation': 0.06666666666666667, 'can': 0, 'not': 0, 'grant': 0, 'engineering': 0, 'high': 0.10833333333333334, 'lose': 0, 'momentum': 0, 'principal': 0.06666666666666667, 'like': 0.0380952380952381, 'less': 0, 'utilisation': 0, 'external': 0, 'assistance': 0.09803921568627451, 'payment': 0.0196078431372549, 'input': 0.06666666666666667, 'iron': 0.2, 'steel': 0.057971014492753624, 'fertilizer': 0.1111111111111111, 'likely': 0.19047619047619047, 'exert': 0, 'reserve': 0, 'clearly': 0.06666666666666667, 'constraint': 0.3333333333333333, 'become': 0.03571428571428571, 'reality': 0, 'must': 0.05714285714285714, 'massive': 0.1, 'couple': 0, 'adequate': 0.030303030303030304, 'expansion': 0.06666666666666667, 'domestic': 0, 'vital': 0, 'substitute': 0, 'explore': 0, 'indigenous': 0.01818181818181818, 'source': 0.1, 'supply': 0.09523809523809523, 'behaviour': 0, 'determinant': 0, '10': 0.1111111111111111, 'despite': 0.06666666666666667, 'real': 0, 'national': 0, 'income': 0.02768549280177187, 'small': 0.02, 'due': 0, 'mainly': 0, 'lack': 0, 'retain': 0.3333333333333333, 'perspective': 0, 'forgotten': 1.0, 'fluctuation': 0.16666666666666666, 'uncommon': 0, 'phenomenon': 0, 'heavily': 0, 'dependent': 0, 'draw': 0, 'pessimistic': 0, 'conclusion': 0, 's': 0.01904761904761905, 'health': 1.0, 'potential': 0, 'sound': 0, '11': 0, 'know': 0, 'careful': 0, 'assessment': 0, 'relevant': 0, 'fix': 0.03636363636363636, 'target': 0.044444444444444446, 'fifth': 0.14285714285714285, 'plan': 0.0576271186440678, 'annum': 0, 'criticism': 0, 'ambitious': 0, 'consider': 0.01282051282051282, 'entirely': 0, 'unable': 0, 'accept': 0, 'unrealistic': 0, 'purposeful': 0, 'planning': 0, 'simply': 0, 'extrapolation': 0, 'political': 0, 'india': 0, 'since': 0, 'independence': 0, 'belt': 0, 'gloomy': 0, 'prophecy': 0, 'many': 0, 'distinguished': 0, 'commentator': 0, 'demonstrate': 0, 'polity': 0, 'resilence': 0, 'hard': 0.16666666666666666, 'shock': 0, 'even': 0, 'strong': 0, 'impressive': 0, 'collective': 0, 'properly': 0, 'channelise': 0, 'nation': 0, 'similar': 0, 'sense': 0, 'discipline': 0, 'determination': 0, 'work': 0.01098901098901099, 'quest': 1.0, 'quality': 0, 'common': 0, 'man': 0.2, 'reliant': 0, '12': 0, 'immediate': 0, 'may': 0.039525691699604744, 'summarise': 0.3333333333333333, 'follow': 0, 'firstly': 0, 'inflationary': 0.047619047619047616, 'contain': 0, 'judicious': 0, 'combination': 0, 'demand': 0, 'management': 0, 'wage': 0, 'secondly': 0, 'improve': 0, 'vigorous': 0, 'saving': 0.022222222222222223, 'investment': 0.02197802197802198, 'third': 0.044444444444444446, 'viability': 0, 'restraint': 0, 'fourthly': 0, 'employment': 0.07272727272727272, 'opportunity': 0.2, 'rural': 0.07692307692307693, 'urban': 0.09523809523809523, 'dent': 0, 'problem': 0, 'unemployment': 0, 'determine': 0, 'disparity': 0.13333333333333333, 'consumption': 0, 'finally': 0, 'secure': 0.16666666666666666, 'minimum': 0, 'amenity': 0, 'citizen': 0, 'coverage': 0, 'frame': 0, '13': 0, 'inevitable': 0, 'impact': 0, 'budgetary': 0, 'position': 0.3, 'sum': 0.09523809523809523, 'rs': 0.030525030525030524, '150': 0.3, 'chiefly': 0, 'minor': 0, 'addition': 0.11538461538461539, 'provision': 0.0990990990990991, 'short': 0, 'loan': 0.07352941176470588, 'pesticide': 0, 'raise': 0.10461538461538461, '60': 0.15384615384615385, '100': 0.10909090909090909, 'operation': 0, 'organise': 0, 'natural': 0.3, 'calamity': 0.1, 'step': 0.058823529411764705, '75': 0.09090909090909091, '220': 1.0, 'feel': 0.10606060606060606, 'useful': 0, 'effective': 0.06666666666666667, 'deal': 0.06666666666666667, 'scene': 0, '14': 0.13333333333333333, '720': 1.0, 'project': 0.045454545454545456, 'view': 0.07272727272727272, 'bridge': 0, 'gap': 0, 'decide': 0.08888888888888889, 'another': 0.06666666666666667, '55': 0.3333333333333333, 'special': 0.03636363636363636, 'accommodation': 0.16666666666666666, 'way': 0.0761904761904762, 'inescapable': 0, 'deficit': 0.07602339181286549, 'non': 0, 'account': 0.051470588235294115, 'specify': 0, 'additional': 0.06507936507936508, 'burden': 0, '153': 1.0, 'enhanced': 0, 'otherwise': 0, 'implement': 0.26666666666666666, 'reduced': 0, '15': 0.08888888888888889, 'mention': 0.03571428571428571, 'scheme': 0.029350104821802937, 'liquidation': 0, 'overdraft': 0.10714285714285714, 'consultation': 0, 'bank': 0, 'ensure': 0.03571428571428571, 'use': 0.009195402298850575, 'mode': 0, 'put': 0, 'effect': 0, '1st': 0, 'effectively': 0, 'wish': 0.16666666666666666, 'solve': 0, 'overdrafts': 0, 'cooperation': 0, 'extend': 0.047619047619047616, 'matter': 0.06666666666666667, 'without': 0, 'pay': 0.03508771929824561, 'amount': 0.0989010989010989, '642': 1.0, 'clear': 0, 'mean': 0.06666666666666667, 'advance': 0.03571428571428571, 'release': 0, 'portion': 0.2, 'recover': 0, '421': 0.6666666666666666, 'spread': 1.0, 'next': 0.15833333333333333, 'really': 0, 'represent': 0.09523809523809523, 'book': 0.2, 'adjustment': 0.06666666666666667, 'thus': 0.06666666666666667, 'though': 0, 'notionally': 0, '16': 0, 'defence': 0, '1600': 0.6666666666666666, 'show': 0.16363636363636364, '192': 1.0, 'original': 0.3333333333333333, '1408': 1.0, 'commitment': 0.058823529411764705, 'higher': 0, 'subsidy': 0.06666666666666667, 'extent': 0.058333333333333334, '17': 0.2, 'general': 0.13333333333333333, 'insurance': 0, 'coke': 0, 'coking': 0, 'coal': 0, 'mine': 0, 'copper': 0, 'corporation': 0.027777777777777776, '56': 0.3333333333333333, '18': 0.2222222222222222, 'rehabilitation': 1.0, 'lakh': 0.15384615384615385, 'western': 0, 'december': 0, 'war': 0, 'pakistan': 0, 'allow': 0.06593406593406594, 'unforeseen': 0, 'big': 0.3333333333333333, 'outlay': 0, 'union': 0.19047619047619047, 'together': 0.6666666666666666, '2624': 1.0, 'nearly': 0.1, '500': 0.42857142857142855, 'able': 0.3333333333333333, 'material': 0.015151515151515152, 'shortfall': 0, 'hand': 0, 'railway': 0, '34': 0.4, 'nutrition': 0, 'start': 0.07272727272727272, '1970': 0, '71': 0.16666666666666666, 'supplemental': 0, 'population': 0, 'gain': 0, 'currently': 0, '32': 0.14285714285714285, 'pre': 0, 'school': 0, 'child': 0, 'expectant': 0, 'nursing': 0, 'mother': 0, 'slum': 0, 'tribal': 0, 'derive': 0.3333333333333333, 'benefit': 0.025, '19': 0.06666666666666667, 'home': 0, 'site': 0, 'worker': 0.16666666666666666, 'gather': 0, 'lakhs': 0, 'house': 0, 'already': 0.022222222222222223, 'sanction': 0, 'assure': 0, 'basti': 0, 'improvement': 0.02564102564102564, 'analogy': 0, 'calcutta': 0, '20': 0.10909090909090909, 'receipts': 0, 'taxis': 0.022222222222222223, '83': 0.5, 'custom': 0.0641025641025641, 'exceed': 0.047619047619047616, '90': 0.16666666666666666, 'excise': 0.10526315789473684, 'duty': 0.03449367088607595, '37': 0.3333333333333333, '21': 0, 'mop': 0, 'surplus': 0, 'investible': 0, 'fund': 0.047619047619047616, 'financial': 0, 'institution': 0, 'recourse': 0, 'three': 0.014705882352941176, 'floatation': 0, 'receipt': 0, 'head': 0, '263': 1.0, '478': 1.0, '215': 1.0, 'collection': 0.10714285714285714, 'various': 0.08888888888888889, 'expect': 0.0989010989010989, 'reach': 0.13333333333333333, '300': 0.3333333333333333, '230': 1.0, 'assume': 1.0, '22': 0, 'change': 0.09090909090909091, 'overall': 0, '550': 1.0, 'figure': 0.3333333333333333, 'exclude': 0.16666666666666666, 'clearance': 0.16666666666666666, 'till': 0, 'mobilisation': 0, 'extremely': 0, 'difficult': 0, 'resultant': 0, 'involve': 0, 'unexpectedly': 0, 'spending': 0, 'let': 0, 'turn': 0.06666666666666667, 'narration': 0, 'future': 0, 'leave': 0.05454545454545454, 'behind': 0, 'main': 0, 'fulfil': 0.14285714285714285, 'remain': 0.1, 'fourth': 0.2, 'firm': 0, 'five': 0, '1974': 0.09523809523809523, '24': 0.2, 'reconcile': 0, 'requirement': 0.07272727272727272, 'stability': 0.07142857142857142, 'approach': 0.06666666666666667, 'grow': 0.1, 'believe': 1.0, 'solution': 0, 'seek': 0, 'cut': 0.06666666666666667, 'productive': 0, 'capacity': 0.10714285714285714, 'run': 0, 'defeat': 0, 'considerable': 0.07142857142857142, 'aggravate': 0, 'inequitable': 0, 'fully': 0, 'employ': 0, 'unemployed': 0, 'reason': 0.16666666666666666, 'notwithstanding': 0, '25': 0.26666666666666666, '1924': 1.0, '137': 1.0, '810': 1.0, '35': 0.4, '110': 1.0, 'territorie': 0, '2844': 1.0, '26': 0, 'initiative': 0, 'reorient': 0, 'combine': 0, 'promote': 0, 'ideal': 0.16666666666666666, 'needy': 0, 'poor': 0, 'purpose': 0.07384615384615385, 'earlier': 0.16666666666666666, 'security': 0, '125': 1.0, 'earmark': 1.0, 'new': 0.0641025641025641, 'package': 0, 'welfare': 0, 'educate': 0, 'uneducated': 0, 'education': 0, '30': 0.08888888888888889, 'component': 0.16666666666666666, 'subserving': 0, 'yield': 0.0989010989010989, 'beneficial': 0, '27': 1.0, 'ongoing': 0, 'form': 0.06666666666666667, 'core': 0, 'infrastructure': 0, 'commerce': 0, 'find': 0.06666666666666667, '88': 0.6666666666666666, '115': 1.0, 'field': 0.12727272727272726, 'chemical': 0, '134': 1.0, '95': 0.3333333333333333, 'agree': 0.2, 'critical': 0.16666666666666666, 'highly': 1.0, '28': 0.16666666666666666, 'word': 1.0, 'appropriate': 0.13333333333333333, 'differential': 0.16666666666666666, 'interest': 0.1, 'recall': 0, '25th': 0, 'march': 0, 'statement': 0, 'regard': 0.03636363636363636, 'lend': 1.0, 'concessional': 0.12727272727272726, 'category': 0.06666666666666667, 'person': 0, 'low': 0.1794871794871795, 'bracket': 0, 'endeavour': 0, 'issue': 0, 'guidelines': 0, 'june': 0, 'thereafter': 0, 'operate': 0.13333333333333333, 'pilot': 0.3333333333333333, 'progress': 0.07142857142857142, 'review': 0, 'aspect': 0, 'announce': 0, '29': 0.23809523809523808, 'confine': 0, '163': 0, 'industrially': 0, 'backward': 0.047619047619047616, 'district': 0.07142857142857142, 'farmer': 0, 'agency': 0, 'marginal': 0, 'labour': 0, 'applicable': 0.06593406593406594, '265': 0, 'physically': 0, 'handicap': 0, 'orphanage': 0, 'woman': 0, 'irrespective': 0, 'location': 0, 'hereafter': 0, 'eligible': 0, 'borrow': 0, 'obtain': 0, 'purely': 0, 'normal': 0.1388888888888889, 'expense': 0, 'limit': 0.09090909090909091, 'eligibility': 0, '000': 0.1, 'family': 0.01282051282051282, 'semi': 0, '200': 0.6666666666666666, 'ceiling': 0.07142857142857142, 'capital': 0.025, 'liberalisation': 0, 'initiate': 0, 'do': 0, 'far': 0, 'commensurate': 0, 'magnitude': 0, 'fresh': 0, 'greater': 0, 'concerted': 0, 'concern': 0, 'among': 0.13333333333333333, 'propose': 0.029807130333138514, 'undertake': 0, 'generate': 1.0, 'half': 0, 'creation': 0, 'durable': 0, 'asset': 0, 'compilation': 0, 'valuable': 0, 'datum': 0, 'training': 0, 'apart': 0, 'happier': 0, 'allocate': 0, 'much': 0.1, '31': 0.1111111111111111, 'action': 0.16666666666666666, 'get': 0.3333333333333333, 'within': 0.10714285714285714, 'envisage': 1.0, 'key': 0, 'mass': 0, 'importance': 0, 'complete': 0, 'accord': 0, 'schedule': 0.1, 'attain': 0, 'full': 0.3333333333333333, 'facilitate': 0, 'internal': 0.6666666666666666, 'enterprise': 0, 'contribution': 0.06666666666666667, '518': 1.0, 'thereby': 0, 'total': 0.18681318681318682, '2442': 1.0, '33': 0, 'satisfactory': 1.0, 'wherever': 0.3333333333333333, '119': 0.6666666666666666, 'excess': 1.0, '800': 1.0, 'discussion': 0, 'states': 0, 'commission': 0.06666666666666667, 'ministry': 0, '1914': 1.0, '1704': 1.0, '4356': 1.0, '4011': 1.0, 'side': 0.03571428571428571, 'care': 0, 'restrict': 0, 'namely': 0.10714285714285714, 'enable': 0.06666666666666667, '79': 0.6666666666666666, 'specific': 0.17857142857142858, 'outside': 0, 'happy': 0.3333333333333333, '36': 0.16666666666666666, 'report': 0.01282051282051282, 'yet': 0, 'receive': 0, 'share': 0.07142857142857142, 'anxiety': 1.0, 'employee': 0, 'act': 0, 'upon': 0, 'expeditiously': 0, 'absence': 0, 'arise': 0.027777777777777776, 'recommendation': 0.04395604395604396, 'subsequent': 0, 'decision': 0, 'supplementary': 0, 'tax': 0.041463414634146344, 'taxation': 0.029239766081871343, '80': 0.23809523809523808, '196': 1.0, '325': 1.0, 'repayment': 0, '38': 0.5, 'confirm': 0, 'levy': 0.09420289855072464, 'withdraw': 0.044444444444444446, 'legislation': 0, 'separately': 0, '39': 1.0, 'exist': 0.036923076923076927, '335': 0.6666666666666666, '40': 0.14285714285714285, 'sure': 1.0, 'face': 0.16666666666666666, 'size': 0, 'kept': 1.0, 'accomplish': 0, '41': 0, 'consideration': 0, 'underlie': 0, 'prudent': 1.0, 'moreover': 0, 'alternative': 1.0, '42': 0, 'direct': 0.07142857142857142, 'indirect': 0.06666666666666667, 'enquiry': 0, 'committe': 0, 'chairmanship': 0, 'k': 0, 'n': 0, 'wanchoo': 0, 'ex': 0, 'chief': 0, 'carefully': 0, 'examine': 0, 'submit': 0, 'separate': 0.5, 'bill': 0, 'acceptable': 1.0, 'bearing': 0, 'committee': 0, 'wealth': 0.4, 'dr': 0, 'raj': 0, '43': 0, 'circumstance': 0, 'escape': 0, 'process': 0, 'untouched': 0, 'evident': 0, 'unfold': 0, '44': 0, 'doubt': 0.03571428571428571, 'suggest': 0, 'one': 0.022222222222222223, 'conceive': 0, 'aggregation': 0, 'taxpayer': 0.03571428571428571, 'apply': 0.09558823529411764, 'case': 0.0457516339869281, 'exceeding': 0.3333333333333333, 'exemption': 0.02197802197802198, 'rupee': 0.09523809523809523, 'slab': 0.02197802197802198, 'exempt': 0.038461538461538464, 'middle': 0, 'upper': 0, 'aggregate': 0.07142857142857142, 'partial': 0, 'integration': 0, 'individual': 0.1, 'hindu': 0.14285714285714285, 'undivided': 0, 'unregistere': 0, 'association': 0, 'body': 0, 'artificial': 0, 'juridical': 0, '45': 0, 'generally': 0, 'treatment': 0.2, 'encourage': 0.025, 'avoidance': 0, 'unintende': 0, 'neutralise': 0, 'respect': 0.07692307692307693, 'undivide': 0, 'uniform': 0, '46': 0, 'avoid': 0, 'sale': 0, 'transfer': 0, 'hold': 0.1, 'entitle': 0, 'qualify': 0.06666666666666667, 'relation': 0, '47': 0, 'undertaking': 0, 'shift': 0.3333333333333333, 'compulsory': 0, 'acquisition': 0, 'land': 0, 'building': 0, 'compensation': 0.2, 'reinveste': 0, 'establish': 0, 'venture': 0, '48': 0, 'provident': 0.3333333333333333, 'plus': 0, '50': 0.16666666666666666, 'deduction': 0.08888888888888889, 'compute': 0, 'taxable': 0, 'equal': 0, 'quantum': 0, '49': 0.16666666666666666, 'sport': 0, 'lover': 0, 'donation': 0, 'approve': 0, 'manner': 0, 'charity': 0, 'facility': 0, 'young': 0, 'sportsman': 0, 'medium': 0, 'entrepreneur': 0, 'comparatively': 0.16666666666666666, 'company': 0.01282051282051282, 'towards': 0.02197802197802198, 'widely': 0.3333333333333333, 'closely': 0, 'corporate': 0, 'profit': 0.06666666666666667, 'conversion': 0, 'broaden': 0, 'ownership': 0, 'whether': 0, 'business': 0.044444444444444446, 'property': 0, 'liable': 0.09523809523809523, 'beyond': 0, 'treat': 0, 'retrospectively': 0, '51': 0, 'law': 0, 'deductible': 0.3333333333333333, 'statutory': 0, 'local': 0, 'authority': 0, 'contractor': 0, 'contract': 0, 'include': 0, 'cooperative': 0, 'deduct': 0, '52': 0, 'credit': 0, 'guarantee': 0, 'banking': 0, 'hitherto': 0.06666666666666667, 'neglected': 0, 'laudable': 1.0, '53': 1.0, 'notice': 0, 'intention': 0, 'rebate': 0, 'ship': 0, 'acquire': 0, 'plant': 0.09523809523809523, 'machinery': 0.0641025641025641, 'instal': 0.16666666666666666, 'response': 0, 'fiscal': 0.05555555555555555, 'concession': 0.02857142857142857, 'impart': 0, 'indicate': 0.16666666666666666, 'select': 0.06666666666666667, 'pursurance': 0, 'giving': 0, 'promotion': 0, 'research': 0, '54': 0, 'initial': 0, 'depreciation': 0, 'list': 0.14285714285714285, 'stimulus': 0, 'preferential': 0, 'specifically': 0, 'establishment': 0, 'percentage': 0, 'enlarge': 0.06666666666666667, 'incentive': 0, 'inadequate': 0, 'attention': 0, 'retard': 0, 'technology': 0, 'moment': 0, 'scientific': 0, 'relate': 0.01818181818181818, 'activity': 0, 'immediately': 1.0, 'commencement': 0, 'write': 0, 'commence': 0, 'salarie': 0, 'personnel': 0, 'weighted': 1.0, 'sponsor': 0, 'laboratory': 0, '57': 0, 'proposition': 0, 'sizeable': 0, 'incur': 0, 'develop': 0, 'traditional': 0, 'product': 0.1111111111111111, '133': 0, 'actual': 1.0, 'weight': 0, '58': 0, 'orient': 0, 'rather': 0, 'intensive': 0, '61': 0, '59': 0, 'enumerate': 0, 'approximately': 0, 'ahead': 1.0, 'reversal': 0, 'precedence': 0, 'deference': 0, 'former': 0, 'contributor': 0, 'refer': 0.03571428571428571, 'behalf': 0, 'final': 0, 'fulfilment': 1.0, 'lieu': 0, 'leviable': 0, 'commodity': 0.06666666666666667, 'sugar': 0, 'tobacco': 0.06666666666666667, 'incidence': 0.047619047619047616, 'value': 0.030303030303030304, 'carry': 0, 'difficulty': 0, 'commoditie': 0, 'somewhat': 0, 'sensitive': 0, 'item': 0.03676470588235294, 'seem': 0, 'offer': 0, 'choice': 0, 'fall': 0, 'old': 0, 'faithful': 0, 'cigarette': 0.04395604395604396, 'predicament': 0, 'malign': 0, 'almost': 0, 'discovery': 0, 'refrain': 0, 'attitude': 0, 'castigation': 0, 'numerous': 0, 'leaf': 0, 'content': 0, 'pleasure': 0, 'weed': 0, 'exchequer': 0, '62': 0, 'experience': 0, 'whereby': 0, 'ad': 0, 'valorem': 0.2, 'depend': 0, 'range': 0, 'dead': 0, 'brand': 0, 'flourish': 0, 'nature': 0, 'build': 0.16666666666666666, 'temptation': 0, 'depression': 0, 'resort': 0.13333333333333333, 'progressive': 0.16666666666666666, 'simple': 0, 'principle': 0, 'better': 0, 'ten': 0, 'thousand': 0, 'steady': 1.0, 'every': 0.16666666666666666, 'thereof': 0, 'consolation': 0, 'smoker': 0.06666666666666667, 'upward': 0, 'inter': 0, 'se': 0, '63': 0, '64': 0, 'afraid': 0, 'thing': 0, 'pipe': 0.16666666666666666, 'roll': 0, 'manufacture': 0.0392156862745098, 'smoking': 0, 'mixture': 0, 'accrue': 0.06666666666666667, 'tendency': 0, 'manufacturer': 0.027777777777777776, 'legitimate': 0, 'cotton': 0.06060606060606061, 'art': 0, 'silk': 0, 'fabric': 0.014705882352941176, 'piece': 0, 'fent': 0.2, 'cloth': 0, 'euphemistic': 0, 'ally': 0, 'call': 0, 'rag': 0.13333333333333333, 'curb': 0.03571428571428571, 'definition': 0, 'length': 0, 'criterion': 0, 'suitably': 0.2, 'dutie': 0.2, 'prescribe': 0.3333333333333333, 'desire': 0, 'might': 0, 'drastic': 0, '65': 0, 'complaint': 0, 'blended': 0, 'ingredient': 0, 'lower': 0, 'viscose': 0, 'remove': 0, '66': 0, 'enjoy': 0.1, 'aid': 0, 'steam': 0, 'unit': 0, 'processing': 0, 'machine': 0, 'equity': 0, '67': 0, '68': 0, 'net': 0.07142857142857142, '69': 1.0, 'search': 0, 'extra': 0, 'often': 0, 'motor': 0, 'spirit': 0, 'steeply': 1.0, 'justification': 0, 'mechanism': 0, 'pronounced': 0, 'spurt': 0, 'petrol': 0, 'kilolitre': 0, '70': 0.6666666666666666, 'modification': 0.25, 'petroleum': 0, 'fraction': 0, 'classifiable': 0, 'naphtha': 0.16666666666666666, 'fertiliser': 0, 'fuel': 0, 'impose': 0.13333333333333333, 'compound': 0, 'lubricating': 0, 'grease': 0, 'method': 0, 'appreciate': 0, 'unquestioned': 0, 'quantity': 0, 'basis': 0.07142857142857142, 'subject': 0.03571428571428571, 'ingenuity': 0, 'parallel': 0, 'instance': 0, 'nylon': 0.06666666666666667, 'yarn': 0.0380952380952381, 'spinner': 0, 'adjust': 0, 'denierage': 0, 'advantage': 0, 'grouping': 0, 'cite': 0, 'group': 0, 'denier': 0, 'rectify': 0, 'deni': 0, 'synthetic': 0.16666666666666666, 'fibre': 0.1, 'polymer': 0, 'chip': 0, 'readjust': 1.0, 'finish': 1.0, 'acetate': 0, 'polyester': 0, 'fishing': 0, 'parachute': 0, 'cord': 0, 'unaffected': 0, '85': 0.4, 'keeping': 0, 'degree': 0, 'luxury': 0, 'affluent': 0, 'refrigerator': 0.16666666666666666, 'air': 0, 'conditioner': 0, '165': 0, 'litre': 0, 'class': 0, 'consumer': 0, 'refrigerate': 0, 'conditioning': 0, 'hospital': 0, 'touch': 0, 'electrical': 0, 'appliance': 0.16666666666666666, 'decorative': 0, 'plywood': 0, 'square': 0, 'tea': 0, 'chest': 0, 'rest': 0, 'consist': 0, 'vehicle': 0, 'instant': 0, 'coffee': 0, 'shave': 0, 'cream': 0, 'playing': 0, 'record': 0.16666666666666666, 'gramophone': 0, 'expensive': 0, 'play': 0, 'variety': 0, '78': 0, '76': 0, '77': 1.0, 'caustic': 0, 'potash': 0, 'carbon': 0, 'black': 0, 'carbide': 0, 'tool': 0, 'tip': 0, 'wire': 0, 'rope': 0, 'rubber': 0, 'except': 0, 'tariff': 0.08333333333333333, 'glycerine': 0, 'join': 0, 'modify': 0, 'rescind': 0, 'catalogue': 0, 'paper': 0, 'mill': 0.16666666666666666, 'dated': 0, 'replace': 0, 'other': 0, 'attract': 0, 'quantitative': 0, 'bamboo': 0, 'attach': 0, 'unconventional': 0, 'bagasse': 0, 'cereal': 0, 'straw': 0, 'liberalise': 0, 'producer': 0, 'rayon': 0, 'voltage': 0, 'electric': 0, 'motors': 0, 'sheet': 0.06666666666666667, 'glass': 0, 'plate': 0, 'acrylic': 0, 'plastic': 0.3333333333333333, 'p': 0, 'v': 0, 'c': 0, 'film': 0, 'thickness': 0, 'layflat': 0, 'tubing': 0, 'diverse': 0, 'reference': 0, 'kind': 0, 'regulatory': 0.2, '1963': 0, 'straightforward': 0, 'incorporate': 0, 'statute': 0, 'revive': 1.0, 'auxiliary': 0.07142857142857142, 'excisable': 0, 'centre': 0.19047619047619047, 'warrant': 0, 'clause': 0, 'wind': 0, 'm': 0, 'aluminium': 0, 'hessian': 0, 'zinc': 0, 'charge': 0, 'ingot': 0.13333333333333333, 'skelp': 0, '81': 0, 'metal': 0, 'countervail': 1.0, '82': 0, 'furnace': 0.1, 'secondary': 1.0, 'scrap': 0, 'stage': 0, 'metric': 0, 'prior': 0, 'double': 0, 'impost': 0, 'favour': 0, 'foregone': 0, 'drop': 0, '84': 0, 'customs': 0.07142857142857142, 'broadly': 0, 'categorise': 0, 'presently': 0.06666666666666667, 'totally': 0, '86': 0, '87': 0, 'bind': 0.16666666666666666, 'agreement': 0.3333333333333333, 'trade': 0, 'pende': 0, 'negotiation': 0, 'contracting': 0, 'party': 0, 'permit': 0, 'rationalisation': 0, 'structure': 0, 'consequent': 0, 'wood': 0, 'pulp': 0, 'tallow': 0, 'revision': 0.1, 'selective': 0, '89': 0, 'impetus': 0, 'substitution': 0, 'administer': 1.0, 'across': 0, 'board': 0, 'privileged': 1.0, 'nominal': 1.0, 'paise': 0.5, 'kilogram': 0, 'fine': 0, 'superfine': 0, 'blend': 0, '91': 0, 'along': 0, 'amely': 0, '92': 0, 'nonferrous': 0, '93': 0, 'margin': 0, 'stainless': 0, 'strip': 0, '94': 0, 'tyre': 1.0, 'unexpose': 0, 'cinematograph': 0, 'linear': 0, 'metre': 0, '96': 0, '97': 0.3333333333333333, 'countervailing': 0, 'automatically': 0, '98': 0, '274': 1.0, '156': 0.6666666666666666, '118': 0.6666666666666666, '99': 0, 'briefly': 1.0, 'implication': 1.0, 'outline': 0, 'worth': 1.0, '250': 1.0, 'connection': 0, 'concluding': 0, 'regular': 0, 'privilege': 1.0, 'august': 0, 'forward': 0, 'pleasant': 0, 'light': 0, 'poverty': 0, 'associate': 0, 'inequality': 0.2, 'abolish': 0, 'night': 0, 'never': 0, 'direction': 0, 'move': 0.06666666666666667, 'faith': 0, 'democratic': 0, 'socialism': 0, 'appraise': 0, 'socialist': 1.0, 'sustained': 0, 'multi': 0, 'dimensional': 0, 'transform': 0, 'ill': 0, 'fed': 0, 'clothe': 0, 'afford': 0, 'maintain': 0, 'status': 0, 'quo': 0, 'assist': 0, 'vision': 0, 'formulate': 0, '101': 0, 'emphasis': 0, 'attempt': 0, 'imposition': 1.0, 'equitable': 1.0, 'pattern': 0, 'undue': 0, 'saver': 0, 'positively': 0, 'introduction': 0, 'priority': 0, '31st': 1.0, 'goal': 0.3333333333333333, 'concessions': 0, 'stimulate': 0, 'enhancement': 0, 'see': 0.16666666666666666, 'con': 0, 'speedily': 1.0, 'industrialisation': 0, 'inconsistent': 0, 'february': 0}\""
      ]
     },
     "execution_count": 76,
     "metadata": {},
     "output_type": "execute_result"
    }
   ],
   "source": [
    "data['clustering(C)'][0]"
   ]
  },
  {
   "cell_type": "code",
   "execution_count": 75,
   "metadata": {},
   "outputs": [],
   "source": [
    "data['betweenness(B)'] = data['betweenness(B)'].apply(lambda x: eval(x))"
   ]
  },
  {
   "cell_type": "code",
   "execution_count": 80,
   "metadata": {},
   "outputs": [],
   "source": [
    "data['lemmatized'] = data['lemmatized'].apply(lambda x: eval(x))"
   ]
  },
  {
   "cell_type": "code",
   "execution_count": 77,
   "metadata": {},
   "outputs": [],
   "source": [
    "data['clustering(C)'] = data['clustering(C)'].apply(lambda x: eval(x))"
   ]
  },
  {
   "cell_type": "code",
   "execution_count": 85,
   "metadata": {},
   "outputs": [
    {
     "data": {
      "text/plain": [
       "82"
      ]
     },
     "execution_count": 85,
     "metadata": {},
     "output_type": "execute_result"
    }
   ],
   "source": [
    "len(data['lemmatized'])"
   ]
  },
  {
   "cell_type": "code",
   "execution_count": 86,
   "metadata": {
    "colab": {},
    "colab_type": "code",
    "id": "mKOKsYa_MNaB"
   },
   "outputs": [],
   "source": [
    "# calculating average and variance for Betweenness and Clustering\n",
    "avg_btwns = []\n",
    "avg_C = []\n",
    "var_btwns = []\n",
    "var_C = []\n",
    "\n",
    "for i, row in data.iterrows():\n",
    "    avg_betw = 1/data['len_of_lemmatized'][i] * sum(data['betweenness(B)'][i].values())\n",
    "    avg_C_value = 1/data['len_of_lemmatized'][i] * sum(data['clustering(C)'][i].values())\n",
    "    \n",
    "    avg_btwns.append(avg_betw)\n",
    "    avg_C.append(avg_C_value)\n",
    "    \n",
    "    diff_betw = [(avg_betw - data['betweenness(B)'][i][x])**2 for x in data['lemmatized'][i]] \n",
    "    var_betw = 1/data['len_of_lemmatized'][i] * sum(diff_betw)\n",
    "    var_btwns.append(var_betw)\n",
    "    \n",
    "    diff_avg_clustering = [(avg_C_value - data['clustering(C)'][i][x])**2 for x in data['lemmatized'][i]]\n",
    "    var_avg_clustering = 1/data['len_of_lemmatized'][i] * sum(diff_avg_clustering)\n",
    "    var_C.append(var_avg_clustering)"
   ]
  },
  {
   "cell_type": "code",
   "execution_count": 87,
   "metadata": {
    "colab": {},
    "colab_type": "code",
    "id": "140n-SqxMknF"
   },
   "outputs": [],
   "source": [
    "data['avg_btwns'] = avg_btwns"
   ]
  },
  {
   "cell_type": "code",
   "execution_count": 88,
   "metadata": {
    "colab": {},
    "colab_type": "code",
    "id": "z-OAemQFK90F"
   },
   "outputs": [],
   "source": [
    "data['var_btwns'] = var_btwns"
   ]
  },
  {
   "cell_type": "code",
   "execution_count": 89,
   "metadata": {
    "colab": {
     "base_uri": "https://localhost:8080/",
     "height": 90
    },
    "colab_type": "code",
    "id": "o9c99n5AS5_0",
    "outputId": "49074f25-e9b4-4a96-b89e-7acd494bd8d9"
   },
   "outputs": [],
   "source": [
    "data['avg_C'] = avg_C\n",
    "data['var_C'] = var_C"
   ]
  },
  {
   "cell_type": "code",
   "execution_count": 91,
   "metadata": {},
   "outputs": [],
   "source": [
    "data.to_csv('analysis_complex_networks_complete.csv')"
   ]
  },
  {
   "cell_type": "code",
   "execution_count": 92,
   "metadata": {},
   "outputs": [
    {
     "data": {
      "text/html": [
       "<div>\n",
       "<style scoped>\n",
       "    .dataframe tbody tr th:only-of-type {\n",
       "        vertical-align: middle;\n",
       "    }\n",
       "\n",
       "    .dataframe tbody tr th {\n",
       "        vertical-align: top;\n",
       "    }\n",
       "\n",
       "    .dataframe thead th {\n",
       "        text-align: right;\n",
       "    }\n",
       "</style>\n",
       "<table border=\"1\" class=\"dataframe\">\n",
       "  <thead>\n",
       "    <tr style=\"text-align: right;\">\n",
       "      <th></th>\n",
       "      <th>avg_btwns</th>\n",
       "      <th>var_btwns</th>\n",
       "      <th>avg_C</th>\n",
       "      <th>var_C</th>\n",
       "      <th>avg_shortest_path_length(l)</th>\n",
       "    </tr>\n",
       "  </thead>\n",
       "  <tbody>\n",
       "    <tr>\n",
       "      <td>0</td>\n",
       "      <td>0.000448</td>\n",
       "      <td>0.002382</td>\n",
       "      <td>0.025812</td>\n",
       "      <td>0.021498</td>\n",
       "      <td>3.704810</td>\n",
       "    </tr>\n",
       "    <tr>\n",
       "      <td>1</td>\n",
       "      <td>0.000338</td>\n",
       "      <td>0.001384</td>\n",
       "      <td>0.026155</td>\n",
       "      <td>0.022930</td>\n",
       "      <td>3.648069</td>\n",
       "    </tr>\n",
       "    <tr>\n",
       "      <td>2</td>\n",
       "      <td>0.000524</td>\n",
       "      <td>0.004015</td>\n",
       "      <td>0.035521</td>\n",
       "      <td>0.033435</td>\n",
       "      <td>3.604828</td>\n",
       "    </tr>\n",
       "    <tr>\n",
       "      <td>3</td>\n",
       "      <td>0.000274</td>\n",
       "      <td>0.001239</td>\n",
       "      <td>0.019595</td>\n",
       "      <td>0.016621</td>\n",
       "      <td>3.605629</td>\n",
       "    </tr>\n",
       "    <tr>\n",
       "      <td>4</td>\n",
       "      <td>0.000351</td>\n",
       "      <td>0.001626</td>\n",
       "      <td>0.019975</td>\n",
       "      <td>0.016659</td>\n",
       "      <td>3.699404</td>\n",
       "    </tr>\n",
       "    <tr>\n",
       "      <td>...</td>\n",
       "      <td>...</td>\n",
       "      <td>...</td>\n",
       "      <td>...</td>\n",
       "      <td>...</td>\n",
       "      <td>...</td>\n",
       "    </tr>\n",
       "    <tr>\n",
       "      <td>77</td>\n",
       "      <td>0.000359</td>\n",
       "      <td>0.002701</td>\n",
       "      <td>0.021704</td>\n",
       "      <td>0.018204</td>\n",
       "      <td>3.568180</td>\n",
       "    </tr>\n",
       "    <tr>\n",
       "      <td>78</td>\n",
       "      <td>0.000256</td>\n",
       "      <td>0.001419</td>\n",
       "      <td>0.019188</td>\n",
       "      <td>0.017785</td>\n",
       "      <td>3.638443</td>\n",
       "    </tr>\n",
       "    <tr>\n",
       "      <td>79</td>\n",
       "      <td>0.000321</td>\n",
       "      <td>0.003931</td>\n",
       "      <td>0.024911</td>\n",
       "      <td>0.021615</td>\n",
       "      <td>3.434389</td>\n",
       "    </tr>\n",
       "    <tr>\n",
       "      <td>80</td>\n",
       "      <td>0.000399</td>\n",
       "      <td>0.002659</td>\n",
       "      <td>0.023756</td>\n",
       "      <td>0.021367</td>\n",
       "      <td>3.974092</td>\n",
       "    </tr>\n",
       "    <tr>\n",
       "      <td>81</td>\n",
       "      <td>0.000948</td>\n",
       "      <td>0.002539</td>\n",
       "      <td>0.035683</td>\n",
       "      <td>0.031161</td>\n",
       "      <td>3.743950</td>\n",
       "    </tr>\n",
       "  </tbody>\n",
       "</table>\n",
       "<p>82 rows × 5 columns</p>\n",
       "</div>"
      ],
      "text/plain": [
       "    avg_btwns  var_btwns     avg_C     var_C  avg_shortest_path_length(l)\n",
       "0    0.000448   0.002382  0.025812  0.021498                     3.704810\n",
       "1    0.000338   0.001384  0.026155  0.022930                     3.648069\n",
       "2    0.000524   0.004015  0.035521  0.033435                     3.604828\n",
       "3    0.000274   0.001239  0.019595  0.016621                     3.605629\n",
       "4    0.000351   0.001626  0.019975  0.016659                     3.699404\n",
       "..        ...        ...       ...       ...                          ...\n",
       "77   0.000359   0.002701  0.021704  0.018204                     3.568180\n",
       "78   0.000256   0.001419  0.019188  0.017785                     3.638443\n",
       "79   0.000321   0.003931  0.024911  0.021615                     3.434389\n",
       "80   0.000399   0.002659  0.023756  0.021367                     3.974092\n",
       "81   0.000948   0.002539  0.035683  0.031161                     3.743950\n",
       "\n",
       "[82 rows x 5 columns]"
      ]
     },
     "execution_count": 92,
     "metadata": {},
     "output_type": "execute_result"
    }
   ],
   "source": [
    "from sklearn.decomposition import PCA\n",
    "import numpy as np\n",
    "\n",
    "metrics = data[['avg_btwns', 'var_btwns', 'avg_C', 'var_C', 'avg_shortest_path_length(l)']].copy()\n",
    "metrics"
   ]
  },
  {
   "cell_type": "code",
   "execution_count": 114,
   "metadata": {},
   "outputs": [
    {
     "data": {
      "text/plain": [
       "77    SPEECH OF SHRA T.T. KRISHNAMACHARI MINISTER OF...\n",
       "78    1  Budget  2002-2003  Speech    of  Shri  Yash...\n",
       "79    SPEECH OF SHRI T.T. KRISHNAMACHARI MINISTER OF...\n",
       "80    1  Budget  1997-98  Speech  of  Shri  P.  Chid...\n",
       "81    SPEECH OF SHRI MORARJ1 R. DESAI DEPUTY PRIME M...\n",
       "Name: content, dtype: object"
      ]
     },
     "execution_count": 114,
     "metadata": {},
     "output_type": "execute_result"
    }
   ],
   "source": [
    "data.content.tail()"
   ]
  },
  {
   "cell_type": "code",
   "execution_count": 117,
   "metadata": {},
   "outputs": [],
   "source": [
    "# yrs = [1947, 1965, 1983, 2001, 2019]\n",
    "# for i in range(len(data) + 1):\n",
    "#     data.years\n",
    "data['year'] = df[df['content'] != '']['year']"
   ]
  },
  {
   "cell_type": "code",
   "execution_count": 142,
   "metadata": {},
   "outputs": [],
   "source": [
    "yrx = df[df['content'] != '']['year'].tolist()"
   ]
  },
  {
   "cell_type": "code",
   "execution_count": 143,
   "metadata": {},
   "outputs": [],
   "source": [
    "data['year'] = yrx"
   ]
  },
  {
   "cell_type": "code",
   "execution_count": 206,
   "metadata": {},
   "outputs": [],
   "source": [
    "data.to_csv('analysis_using_complex_networks_final.csv')"
   ]
  },
  {
   "cell_type": "code",
   "execution_count": 197,
   "metadata": {},
   "outputs": [
    {
     "name": "stdout",
     "output_type": "stream",
     "text": [
      "1973\n",
      "1976\n",
      "1958\n",
      "2001\n",
      "1995\n",
      "1981\n",
      "1986\n",
      "1952\n",
      "2004\n",
      "2011\n",
      "1988\n",
      "1947\n",
      "1954\n",
      "1996\n",
      "1991\n",
      "2005\n",
      "1967\n",
      "1993\n",
      "1965\n",
      "2006\n",
      "1971\n",
      "1980\n",
      "2004\n",
      "1990\n",
      "1956\n",
      "1987\n",
      "1955\n",
      "1970\n",
      "1969\n",
      "1977\n",
      "1975\n",
      "1966\n",
      "1962\n",
      "1985\n",
      "1979\n",
      "1951\n",
      "1962\n",
      "1968\n",
      "1999\n",
      "1961\n",
      "1965\n",
      "2003\n",
      "1948\n",
      "1952\n",
      "1980\n",
      "1949\n",
      "2019\n",
      "1996\n",
      "2014\n",
      "1974\n",
      "1972\n",
      "2017\n",
      "1978\n",
      "1960\n",
      "1991\n",
      "1971\n",
      "1983\n",
      "1989\n",
      "1984\n",
      "2007\n",
      "1956\n",
      "2018\n",
      "2015\n",
      "1959\n",
      "1982\n",
      "1963\n",
      "2000\n",
      "1953\n",
      "1957\n",
      "1994\n",
      "1950\n",
      "1998\n",
      "1977\n",
      "2013\n",
      "2014\n",
      "1992\n",
      "1974\n",
      "1964\n",
      "2002\n",
      "1957\n",
      "1997\n",
      "1967\n"
     ]
    }
   ],
   "source": [
    "yrs = [1947, 1965, 1983, 2001, 2019]\n",
    "lvl = []\n",
    "for i, row in data.iterrows():\n",
    "    \n",
    "    yr = data['year'][i].split('_-')[0]\n",
    "    yr = int(yr)\n",
    "    \n",
    "    if 1947 <= yr < 1965:\n",
    "        lvl.append('L1')\n",
    "    elif 1965 <= yr < 1983:\n",
    "        lvl.append('L2')\n",
    "    elif 1983 <= yr < 2001:\n",
    "        lvl.append('L3')\n",
    "    elif 2001 <= yr < 2020:\n",
    "        lvl.append('L4')"
   ]
  },
  {
   "cell_type": "code",
   "execution_count": 198,
   "metadata": {},
   "outputs": [
    {
     "data": {
      "text/plain": [
       "82"
      ]
     },
     "execution_count": 198,
     "metadata": {},
     "output_type": "execute_result"
    }
   ],
   "source": [
    "len(lvl)"
   ]
  },
  {
   "cell_type": "code",
   "execution_count": 199,
   "metadata": {},
   "outputs": [],
   "source": [
    "data['lvl'] = lvl"
   ]
  },
  {
   "cell_type": "code",
   "execution_count": 200,
   "metadata": {},
   "outputs": [
    {
     "data": {
      "text/html": [
       "<div>\n",
       "<style scoped>\n",
       "    .dataframe tbody tr th:only-of-type {\n",
       "        vertical-align: middle;\n",
       "    }\n",
       "\n",
       "    .dataframe tbody tr th {\n",
       "        vertical-align: top;\n",
       "    }\n",
       "\n",
       "    .dataframe thead th {\n",
       "        text-align: right;\n",
       "    }\n",
       "</style>\n",
       "<table border=\"1\" class=\"dataframe\">\n",
       "  <thead>\n",
       "    <tr style=\"text-align: right;\">\n",
       "      <th></th>\n",
       "      <th>Unnamed: 0</th>\n",
       "      <th>lemmatized</th>\n",
       "      <th>content</th>\n",
       "      <th>edgelist</th>\n",
       "      <th>graphs</th>\n",
       "      <th>betweenness(B)</th>\n",
       "      <th>len_of_lemmatized</th>\n",
       "      <th>clustering(C)</th>\n",
       "      <th>avg_shortest_path_length(l)</th>\n",
       "      <th>avg_btwns</th>\n",
       "      <th>var_btwns</th>\n",
       "      <th>avg_C</th>\n",
       "      <th>var_C</th>\n",
       "      <th>year</th>\n",
       "      <th>lvl</th>\n",
       "    </tr>\n",
       "  </thead>\n",
       "  <tbody>\n",
       "    <tr>\n",
       "      <td>3</td>\n",
       "      <td>3</td>\n",
       "      <td>[1, budget, 2001, 2002, speech, shri, yashwant...</td>\n",
       "      <td>1  Budget  2001-2002  Speech    of  Shri  Yash...</td>\n",
       "      <td>[('1', 'budget'), ('budget', '2001'), ('2001',...</td>\n",
       "      <td>NaN</td>\n",
       "      <td>{'1': 0.06330208837920638, 'budget': 0.0113051...</td>\n",
       "      <td>9519</td>\n",
       "      <td>{'1': 0.04736712598425197, 'budget': 0.0756802...</td>\n",
       "      <td>3.605629</td>\n",
       "      <td>0.000274</td>\n",
       "      <td>0.001239</td>\n",
       "      <td>0.019595</td>\n",
       "      <td>0.016621</td>\n",
       "      <td>2001_-_2002_</td>\n",
       "      <td>L4</td>\n",
       "    </tr>\n",
       "    <tr>\n",
       "      <td>8</td>\n",
       "      <td>8</td>\n",
       "      <td>[interim, budget, 2004, 2005, speech, jaswant,...</td>\n",
       "      <td>Interim  Budget    2004-2005  Speech    of  Ja...</td>\n",
       "      <td>[('interim', 'budget'), ('budget', '2004'), ('...</td>\n",
       "      <td>NaN</td>\n",
       "      <td>{'interim': 0.0007724497187167357, 'budget': 0...</td>\n",
       "      <td>3190</td>\n",
       "      <td>{'interim': 0, 'budget': 0.05138339920948617, ...</td>\n",
       "      <td>4.133038</td>\n",
       "      <td>0.000984</td>\n",
       "      <td>0.002913</td>\n",
       "      <td>0.018897</td>\n",
       "      <td>0.014090</td>\n",
       "      <td>2004_-_2005_(I)_</td>\n",
       "      <td>L4</td>\n",
       "    </tr>\n",
       "    <tr>\n",
       "      <td>9</td>\n",
       "      <td>10</td>\n",
       "      <td>[interim, budget, 2014, 2015, speech, p, chida...</td>\n",
       "      <td>Interim Budget  2014-2015  Speech  of ...</td>\n",
       "      <td>[('interim', 'budget'), ('budget', '2014'), ('...</td>\n",
       "      <td>NaN</td>\n",
       "      <td>{'interim': 0.0009653809758444133, 'budget': 0...</td>\n",
       "      <td>4213</td>\n",
       "      <td>{'interim': 0.2, 'budget': 0.04804804804804805...</td>\n",
       "      <td>4.291278</td>\n",
       "      <td>0.000782</td>\n",
       "      <td>0.002046</td>\n",
       "      <td>0.020320</td>\n",
       "      <td>0.016514</td>\n",
       "      <td>2011_-_2012</td>\n",
       "      <td>L4</td>\n",
       "    </tr>\n",
       "    <tr>\n",
       "      <td>15</td>\n",
       "      <td>16</td>\n",
       "      <td>[content, part, a, page, ii, macroeconomic, ba...</td>\n",
       "      <td>CONTENTS  PART—A  Page No.  I.  II.  THE MACRO...</td>\n",
       "      <td>[('content', 'part'), ('part', 'a'), ('a', 'pa...</td>\n",
       "      <td>NaN</td>\n",
       "      <td>{'content': 3.896869274713774e-05, 'part': 0.0...</td>\n",
       "      <td>9160</td>\n",
       "      <td>{'content': 0, 'part': 0.008658008658008658, '...</td>\n",
       "      <td>3.720927</td>\n",
       "      <td>0.000297</td>\n",
       "      <td>0.002323</td>\n",
       "      <td>0.020424</td>\n",
       "      <td>0.016748</td>\n",
       "      <td>2005_-_2006_</td>\n",
       "      <td>L4</td>\n",
       "    </tr>\n",
       "    <tr>\n",
       "      <td>19</td>\n",
       "      <td>21</td>\n",
       "      <td>[content, part, a, page, ii, iii, iv, overview...</td>\n",
       "      <td>CONTENTS  PART—A  Page No.  I.  II.  III.  IV....</td>\n",
       "      <td>[('content', 'part'), ('part', 'a'), ('a', 'pa...</td>\n",
       "      <td>NaN</td>\n",
       "      <td>{'content': 0.0, 'part': 0.002646997319183445,...</td>\n",
       "      <td>8661</td>\n",
       "      <td>{'content': 0, 'part': 0.06060606060606061, 'a...</td>\n",
       "      <td>3.847502</td>\n",
       "      <td>0.000329</td>\n",
       "      <td>0.001550</td>\n",
       "      <td>0.021718</td>\n",
       "      <td>0.017670</td>\n",
       "      <td>2006_-_2007_</td>\n",
       "      <td>L4</td>\n",
       "    </tr>\n",
       "    <tr>\n",
       "      <td>22</td>\n",
       "      <td>24</td>\n",
       "      <td>[budget, 2004, 2005, speech, p, chidambaram, m...</td>\n",
       "      <td>Budget  2004-2005  Speech    of  P.  Chidambar...</td>\n",
       "      <td>[('budget', '2004'), ('2004', '2005'), ('2005'...</td>\n",
       "      <td>NaN</td>\n",
       "      <td>{'budget': 0.014155952171564403, '2004': 0.011...</td>\n",
       "      <td>8478</td>\n",
       "      <td>{'budget': 0.03382663847780127, '2004': 0.0658...</td>\n",
       "      <td>3.815488</td>\n",
       "      <td>0.000332</td>\n",
       "      <td>0.002450</td>\n",
       "      <td>0.021413</td>\n",
       "      <td>0.017756</td>\n",
       "      <td>2004_-_2005_</td>\n",
       "      <td>L4</td>\n",
       "    </tr>\n",
       "    <tr>\n",
       "      <td>41</td>\n",
       "      <td>45</td>\n",
       "      <td>[budget, 2003, 2004, speech, jaswant, singh, m...</td>\n",
       "      <td>Budget  2003-2004  Speech    of  Jaswant  Sing...</td>\n",
       "      <td>[('budget', '2003'), ('2003', '2004'), ('2004'...</td>\n",
       "      <td>NaN</td>\n",
       "      <td>{'budget': 0.007987678410070167, '2003': 0.009...</td>\n",
       "      <td>9807</td>\n",
       "      <td>{'budget': 0.046546546546546545, '2003': 0.095...</td>\n",
       "      <td>3.732644</td>\n",
       "      <td>0.000279</td>\n",
       "      <td>0.002422</td>\n",
       "      <td>0.017584</td>\n",
       "      <td>0.014726</td>\n",
       "      <td>2003_-_2004_</td>\n",
       "      <td>L4</td>\n",
       "    </tr>\n",
       "    <tr>\n",
       "      <td>46</td>\n",
       "      <td>50</td>\n",
       "      <td>[interim, budget, 2019, 2020, speech, piyush, ...</td>\n",
       "      <td>Interim Budget 2019-2020    Speech o...</td>\n",
       "      <td>[('interim', 'budget'), ('budget', '2019'), ('...</td>\n",
       "      <td>NaN</td>\n",
       "      <td>{'interim': 0.00010910270525583072, 'budget': ...</td>\n",
       "      <td>5237</td>\n",
       "      <td>{'interim': 0, 'budget': 0.051470588235294115,...</td>\n",
       "      <td>3.882885</td>\n",
       "      <td>0.000551</td>\n",
       "      <td>0.001446</td>\n",
       "      <td>0.019090</td>\n",
       "      <td>0.014952</td>\n",
       "      <td>2019_-_2020(I)</td>\n",
       "      <td>L4</td>\n",
       "    </tr>\n",
       "    <tr>\n",
       "      <td>48</td>\n",
       "      <td>52</td>\n",
       "      <td>[budget, 2014, 2015, speech, arun, jaitley, mi...</td>\n",
       "      <td>Budget  2014-2015  Speech  of Arun Jaitley  Mi...</td>\n",
       "      <td>[('budget', '2014'), ('2014', '2015'), ('2015'...</td>\n",
       "      <td>NaN</td>\n",
       "      <td>{'budget': 0.004788092599723432, '2014': 0.006...</td>\n",
       "      <td>10447</td>\n",
       "      <td>{'budget': 0.021164021164021163, '2014': 0.106...</td>\n",
       "      <td>3.769298</td>\n",
       "      <td>0.000265</td>\n",
       "      <td>0.002586</td>\n",
       "      <td>0.017640</td>\n",
       "      <td>0.014194</td>\n",
       "      <td>2014_-_2015</td>\n",
       "      <td>L4</td>\n",
       "    </tr>\n",
       "    <tr>\n",
       "      <td>51</td>\n",
       "      <td>55</td>\n",
       "      <td>[content, part, a, introduction, ii, iii, iv, ...</td>\n",
       "      <td>CONTENTS    PART - A        Introduction    I....</td>\n",
       "      <td>[('content', 'part'), ('part', 'a'), ('a', 'in...</td>\n",
       "      <td>NaN</td>\n",
       "      <td>{'content': 0.00018338534894001885, 'part': 0....</td>\n",
       "      <td>12264</td>\n",
       "      <td>{'content': 0.1, 'part': 0.024955436720142603,...</td>\n",
       "      <td>4.484389</td>\n",
       "      <td>0.000284</td>\n",
       "      <td>0.000953</td>\n",
       "      <td>0.018620</td>\n",
       "      <td>0.016539</td>\n",
       "      <td>2017_-_2018</td>\n",
       "      <td>L4</td>\n",
       "    </tr>\n",
       "    <tr>\n",
       "      <td>59</td>\n",
       "      <td>63</td>\n",
       "      <td>[content, part, a, page, ii, iii, iv, v, vi, a...</td>\n",
       "      <td>CONTENTS  PART—A  Page No.  I.  II. III.  IV. ...</td>\n",
       "      <td>[('content', 'part'), ('part', 'a'), ('a', 'pa...</td>\n",
       "      <td>NaN</td>\n",
       "      <td>{'content': 0.0004985305877421129, 'part': 0.0...</td>\n",
       "      <td>8994</td>\n",
       "      <td>{'content': 0, 'part': 0.02197802197802198, 'a...</td>\n",
       "      <td>3.774789</td>\n",
       "      <td>0.000309</td>\n",
       "      <td>0.001805</td>\n",
       "      <td>0.022234</td>\n",
       "      <td>0.019043</td>\n",
       "      <td>2007_-_2008_</td>\n",
       "      <td>L4</td>\n",
       "    </tr>\n",
       "    <tr>\n",
       "      <td>61</td>\n",
       "      <td>66</td>\n",
       "      <td>[budget, 2018, 2019, speech, arun, jaitley, mi...</td>\n",
       "      <td>Budget  2018-2019    Speech  of Arun Jaitl...</td>\n",
       "      <td>[('budget', '2018'), ('2018', '2019'), ('2019'...</td>\n",
       "      <td>NaN</td>\n",
       "      <td>{'budget': 0.004049372041957302, '2018': 0.008...</td>\n",
       "      <td>12604</td>\n",
       "      <td>{'budget': 0.037037037037037035, '2018': 0.075...</td>\n",
       "      <td>3.932763</td>\n",
       "      <td>0.000233</td>\n",
       "      <td>0.000571</td>\n",
       "      <td>0.019200</td>\n",
       "      <td>0.016035</td>\n",
       "      <td>2018_-_2019</td>\n",
       "      <td>L4</td>\n",
       "    </tr>\n",
       "    <tr>\n",
       "      <td>62</td>\n",
       "      <td>67</td>\n",
       "      <td>[content, part, a, introduction, major, challe...</td>\n",
       "      <td>CONTENTS  PART - A  Introduction Major Challen...</td>\n",
       "      <td>[('content', 'part'), ('part', 'a'), ('a', 'in...</td>\n",
       "      <td>NaN</td>\n",
       "      <td>{'content': 0.0, 'part': 0.006793844255898434,...</td>\n",
       "      <td>11424</td>\n",
       "      <td>{'content': 0, 'part': 0.043076923076923075, '...</td>\n",
       "      <td>3.840566</td>\n",
       "      <td>0.000249</td>\n",
       "      <td>0.001975</td>\n",
       "      <td>0.017750</td>\n",
       "      <td>0.015666</td>\n",
       "      <td>2015_-_2016</td>\n",
       "      <td>L4</td>\n",
       "    </tr>\n",
       "    <tr>\n",
       "      <td>73</td>\n",
       "      <td>78</td>\n",
       "      <td>[interim, budget, 2014, 2015, speech, p, chida...</td>\n",
       "      <td>Interim Budget  2014-2015  Speech  of ...</td>\n",
       "      <td>[('interim', 'budget'), ('budget', '2014'), ('...</td>\n",
       "      <td>NaN</td>\n",
       "      <td>{'interim': 0.0009653809758444133, 'budget': 0...</td>\n",
       "      <td>4213</td>\n",
       "      <td>{'interim': 0.2, 'budget': 0.04804804804804805...</td>\n",
       "      <td>4.291278</td>\n",
       "      <td>0.000782</td>\n",
       "      <td>0.002046</td>\n",
       "      <td>0.020320</td>\n",
       "      <td>0.016514</td>\n",
       "      <td>2013_-_2014</td>\n",
       "      <td>L4</td>\n",
       "    </tr>\n",
       "    <tr>\n",
       "      <td>74</td>\n",
       "      <td>79</td>\n",
       "      <td>[interim, budget, 2014, 2015, speech, p, chida...</td>\n",
       "      <td>Interim Budget  2014-2015  Speech  of ...</td>\n",
       "      <td>[('interim', 'budget'), ('budget', '2014'), ('...</td>\n",
       "      <td>NaN</td>\n",
       "      <td>{'interim': 0.0009653809758444133, 'budget': 0...</td>\n",
       "      <td>4213</td>\n",
       "      <td>{'interim': 0.2, 'budget': 0.04804804804804805...</td>\n",
       "      <td>4.291278</td>\n",
       "      <td>0.000782</td>\n",
       "      <td>0.002046</td>\n",
       "      <td>0.020320</td>\n",
       "      <td>0.016514</td>\n",
       "      <td>2014_-_2015(I)</td>\n",
       "      <td>L4</td>\n",
       "    </tr>\n",
       "    <tr>\n",
       "      <td>78</td>\n",
       "      <td>83</td>\n",
       "      <td>[1, budget, 2002, 2003, speech, shri, yashwant...</td>\n",
       "      <td>1  Budget  2002-2003  Speech    of  Shri  Yash...</td>\n",
       "      <td>[('1', 'budget'), ('budget', '2002'), ('2002',...</td>\n",
       "      <td>NaN</td>\n",
       "      <td>{'1': 0.07216454218921721, 'budget': 0.0121075...</td>\n",
       "      <td>10325</td>\n",
       "      <td>{'1': 0.04244604316546763, 'budget': 0.0946938...</td>\n",
       "      <td>3.638443</td>\n",
       "      <td>0.000256</td>\n",
       "      <td>0.001419</td>\n",
       "      <td>0.019188</td>\n",
       "      <td>0.017785</td>\n",
       "      <td>2002_-_2003_</td>\n",
       "      <td>L4</td>\n",
       "    </tr>\n",
       "  </tbody>\n",
       "</table>\n",
       "</div>"
      ],
      "text/plain": [
       "    Unnamed: 0                                         lemmatized  \\\n",
       "3            3  [1, budget, 2001, 2002, speech, shri, yashwant...   \n",
       "8            8  [interim, budget, 2004, 2005, speech, jaswant,...   \n",
       "9           10  [interim, budget, 2014, 2015, speech, p, chida...   \n",
       "15          16  [content, part, a, page, ii, macroeconomic, ba...   \n",
       "19          21  [content, part, a, page, ii, iii, iv, overview...   \n",
       "22          24  [budget, 2004, 2005, speech, p, chidambaram, m...   \n",
       "41          45  [budget, 2003, 2004, speech, jaswant, singh, m...   \n",
       "46          50  [interim, budget, 2019, 2020, speech, piyush, ...   \n",
       "48          52  [budget, 2014, 2015, speech, arun, jaitley, mi...   \n",
       "51          55  [content, part, a, introduction, ii, iii, iv, ...   \n",
       "59          63  [content, part, a, page, ii, iii, iv, v, vi, a...   \n",
       "61          66  [budget, 2018, 2019, speech, arun, jaitley, mi...   \n",
       "62          67  [content, part, a, introduction, major, challe...   \n",
       "73          78  [interim, budget, 2014, 2015, speech, p, chida...   \n",
       "74          79  [interim, budget, 2014, 2015, speech, p, chida...   \n",
       "78          83  [1, budget, 2002, 2003, speech, shri, yashwant...   \n",
       "\n",
       "                                              content  \\\n",
       "3   1  Budget  2001-2002  Speech    of  Shri  Yash...   \n",
       "8   Interim  Budget    2004-2005  Speech    of  Ja...   \n",
       "9           Interim Budget  2014-2015  Speech  of ...   \n",
       "15  CONTENTS  PART—A  Page No.  I.  II.  THE MACRO...   \n",
       "19  CONTENTS  PART—A  Page No.  I.  II.  III.  IV....   \n",
       "22  Budget  2004-2005  Speech    of  P.  Chidambar...   \n",
       "41  Budget  2003-2004  Speech    of  Jaswant  Sing...   \n",
       "46            Interim Budget 2019-2020    Speech o...   \n",
       "48  Budget  2014-2015  Speech  of Arun Jaitley  Mi...   \n",
       "51  CONTENTS    PART - A        Introduction    I....   \n",
       "59  CONTENTS  PART—A  Page No.  I.  II. III.  IV. ...   \n",
       "61      Budget  2018-2019    Speech  of Arun Jaitl...   \n",
       "62  CONTENTS  PART - A  Introduction Major Challen...   \n",
       "73          Interim Budget  2014-2015  Speech  of ...   \n",
       "74          Interim Budget  2014-2015  Speech  of ...   \n",
       "78  1  Budget  2002-2003  Speech    of  Shri  Yash...   \n",
       "\n",
       "                                             edgelist  graphs  \\\n",
       "3   [('1', 'budget'), ('budget', '2001'), ('2001',...     NaN   \n",
       "8   [('interim', 'budget'), ('budget', '2004'), ('...     NaN   \n",
       "9   [('interim', 'budget'), ('budget', '2014'), ('...     NaN   \n",
       "15  [('content', 'part'), ('part', 'a'), ('a', 'pa...     NaN   \n",
       "19  [('content', 'part'), ('part', 'a'), ('a', 'pa...     NaN   \n",
       "22  [('budget', '2004'), ('2004', '2005'), ('2005'...     NaN   \n",
       "41  [('budget', '2003'), ('2003', '2004'), ('2004'...     NaN   \n",
       "46  [('interim', 'budget'), ('budget', '2019'), ('...     NaN   \n",
       "48  [('budget', '2014'), ('2014', '2015'), ('2015'...     NaN   \n",
       "51  [('content', 'part'), ('part', 'a'), ('a', 'in...     NaN   \n",
       "59  [('content', 'part'), ('part', 'a'), ('a', 'pa...     NaN   \n",
       "61  [('budget', '2018'), ('2018', '2019'), ('2019'...     NaN   \n",
       "62  [('content', 'part'), ('part', 'a'), ('a', 'in...     NaN   \n",
       "73  [('interim', 'budget'), ('budget', '2014'), ('...     NaN   \n",
       "74  [('interim', 'budget'), ('budget', '2014'), ('...     NaN   \n",
       "78  [('1', 'budget'), ('budget', '2002'), ('2002',...     NaN   \n",
       "\n",
       "                                       betweenness(B)  len_of_lemmatized  \\\n",
       "3   {'1': 0.06330208837920638, 'budget': 0.0113051...               9519   \n",
       "8   {'interim': 0.0007724497187167357, 'budget': 0...               3190   \n",
       "9   {'interim': 0.0009653809758444133, 'budget': 0...               4213   \n",
       "15  {'content': 3.896869274713774e-05, 'part': 0.0...               9160   \n",
       "19  {'content': 0.0, 'part': 0.002646997319183445,...               8661   \n",
       "22  {'budget': 0.014155952171564403, '2004': 0.011...               8478   \n",
       "41  {'budget': 0.007987678410070167, '2003': 0.009...               9807   \n",
       "46  {'interim': 0.00010910270525583072, 'budget': ...               5237   \n",
       "48  {'budget': 0.004788092599723432, '2014': 0.006...              10447   \n",
       "51  {'content': 0.00018338534894001885, 'part': 0....              12264   \n",
       "59  {'content': 0.0004985305877421129, 'part': 0.0...               8994   \n",
       "61  {'budget': 0.004049372041957302, '2018': 0.008...              12604   \n",
       "62  {'content': 0.0, 'part': 0.006793844255898434,...              11424   \n",
       "73  {'interim': 0.0009653809758444133, 'budget': 0...               4213   \n",
       "74  {'interim': 0.0009653809758444133, 'budget': 0...               4213   \n",
       "78  {'1': 0.07216454218921721, 'budget': 0.0121075...              10325   \n",
       "\n",
       "                                        clustering(C)  \\\n",
       "3   {'1': 0.04736712598425197, 'budget': 0.0756802...   \n",
       "8   {'interim': 0, 'budget': 0.05138339920948617, ...   \n",
       "9   {'interim': 0.2, 'budget': 0.04804804804804805...   \n",
       "15  {'content': 0, 'part': 0.008658008658008658, '...   \n",
       "19  {'content': 0, 'part': 0.06060606060606061, 'a...   \n",
       "22  {'budget': 0.03382663847780127, '2004': 0.0658...   \n",
       "41  {'budget': 0.046546546546546545, '2003': 0.095...   \n",
       "46  {'interim': 0, 'budget': 0.051470588235294115,...   \n",
       "48  {'budget': 0.021164021164021163, '2014': 0.106...   \n",
       "51  {'content': 0.1, 'part': 0.024955436720142603,...   \n",
       "59  {'content': 0, 'part': 0.02197802197802198, 'a...   \n",
       "61  {'budget': 0.037037037037037035, '2018': 0.075...   \n",
       "62  {'content': 0, 'part': 0.043076923076923075, '...   \n",
       "73  {'interim': 0.2, 'budget': 0.04804804804804805...   \n",
       "74  {'interim': 0.2, 'budget': 0.04804804804804805...   \n",
       "78  {'1': 0.04244604316546763, 'budget': 0.0946938...   \n",
       "\n",
       "    avg_shortest_path_length(l)  avg_btwns  var_btwns     avg_C     var_C  \\\n",
       "3                      3.605629   0.000274   0.001239  0.019595  0.016621   \n",
       "8                      4.133038   0.000984   0.002913  0.018897  0.014090   \n",
       "9                      4.291278   0.000782   0.002046  0.020320  0.016514   \n",
       "15                     3.720927   0.000297   0.002323  0.020424  0.016748   \n",
       "19                     3.847502   0.000329   0.001550  0.021718  0.017670   \n",
       "22                     3.815488   0.000332   0.002450  0.021413  0.017756   \n",
       "41                     3.732644   0.000279   0.002422  0.017584  0.014726   \n",
       "46                     3.882885   0.000551   0.001446  0.019090  0.014952   \n",
       "48                     3.769298   0.000265   0.002586  0.017640  0.014194   \n",
       "51                     4.484389   0.000284   0.000953  0.018620  0.016539   \n",
       "59                     3.774789   0.000309   0.001805  0.022234  0.019043   \n",
       "61                     3.932763   0.000233   0.000571  0.019200  0.016035   \n",
       "62                     3.840566   0.000249   0.001975  0.017750  0.015666   \n",
       "73                     4.291278   0.000782   0.002046  0.020320  0.016514   \n",
       "74                     4.291278   0.000782   0.002046  0.020320  0.016514   \n",
       "78                     3.638443   0.000256   0.001419  0.019188  0.017785   \n",
       "\n",
       "                year lvl  \n",
       "3       2001_-_2002_  L4  \n",
       "8   2004_-_2005_(I)_  L4  \n",
       "9        2011_-_2012  L4  \n",
       "15      2005_-_2006_  L4  \n",
       "19      2006_-_2007_  L4  \n",
       "22      2004_-_2005_  L4  \n",
       "41      2003_-_2004_  L4  \n",
       "46    2019_-_2020(I)  L4  \n",
       "48       2014_-_2015  L4  \n",
       "51       2017_-_2018  L4  \n",
       "59      2007_-_2008_  L4  \n",
       "61       2018_-_2019  L4  \n",
       "62       2015_-_2016  L4  \n",
       "73       2013_-_2014  L4  \n",
       "74    2014_-_2015(I)  L4  \n",
       "78      2002_-_2003_  L4  "
      ]
     },
     "execution_count": 200,
     "metadata": {},
     "output_type": "execute_result"
    }
   ],
   "source": [
    "data[data['lvl'] == 'L4']"
   ]
  },
  {
   "cell_type": "markdown",
   "metadata": {},
   "source": [
    "### Clustering nodes of Complex Networks"
   ]
  },
  {
   "cell_type": "markdown",
   "metadata": {},
   "source": [
    "Unsupervised machine learning approach is used to recognize patterns. The objective here is to cluster similar instances, which in our case are instances that belong to a particular _reading level_ are considered similar whenever their complex network measurements took similar values.\n",
    "\n",
    "The attribute space is formed with metrics from complex networks. The dataset obtained with the attributes are projected onto a two-dimensional space using Principal Component Analysis (PCA).\n",
    "\n",
    "This reduction in dimentionality could eliminate possible trivial correlations between the metrics."
   ]
  },
  {
   "cell_type": "code",
   "execution_count": 201,
   "metadata": {},
   "outputs": [],
   "source": [
    "from sklearn.decomposition import PCA\n",
    "pca = PCA(n_components=2)\n",
    "principal_components = pca.fit_transform(metrics)\n",
    "principal_df = pd.DataFrame(data = principal_components\n",
    "             , columns = ['principal component 1', 'principal component 2'])"
   ]
  },
  {
   "cell_type": "code",
   "execution_count": 202,
   "metadata": {},
   "outputs": [],
   "source": [
    "principal_df['level'] = data['lvl'].tolist()"
   ]
  },
  {
   "cell_type": "code",
   "execution_count": 203,
   "metadata": {},
   "outputs": [
    {
     "data": {
      "text/html": [
       "<div>\n",
       "<style scoped>\n",
       "    .dataframe tbody tr th:only-of-type {\n",
       "        vertical-align: middle;\n",
       "    }\n",
       "\n",
       "    .dataframe tbody tr th {\n",
       "        vertical-align: top;\n",
       "    }\n",
       "\n",
       "    .dataframe thead th {\n",
       "        text-align: right;\n",
       "    }\n",
       "</style>\n",
       "<table border=\"1\" class=\"dataframe\">\n",
       "  <thead>\n",
       "    <tr style=\"text-align: right;\">\n",
       "      <th></th>\n",
       "      <th>principal component 1</th>\n",
       "      <th>principal component 2</th>\n",
       "      <th>level</th>\n",
       "    </tr>\n",
       "  </thead>\n",
       "  <tbody>\n",
       "    <tr>\n",
       "      <td>0</td>\n",
       "      <td>-0.071522</td>\n",
       "      <td>0.000233</td>\n",
       "      <td>L2</td>\n",
       "    </tr>\n",
       "    <tr>\n",
       "      <td>1</td>\n",
       "      <td>-0.128266</td>\n",
       "      <td>0.001321</td>\n",
       "      <td>L2</td>\n",
       "    </tr>\n",
       "    <tr>\n",
       "      <td>2</td>\n",
       "      <td>-0.171527</td>\n",
       "      <td>0.015428</td>\n",
       "      <td>L1</td>\n",
       "    </tr>\n",
       "    <tr>\n",
       "      <td>3</td>\n",
       "      <td>-0.170692</td>\n",
       "      <td>-0.007822</td>\n",
       "      <td>L4</td>\n",
       "    </tr>\n",
       "    <tr>\n",
       "      <td>4</td>\n",
       "      <td>-0.076918</td>\n",
       "      <td>-0.007369</td>\n",
       "      <td>L3</td>\n",
       "    </tr>\n",
       "  </tbody>\n",
       "</table>\n",
       "</div>"
      ],
      "text/plain": [
       "   principal component 1  principal component 2 level\n",
       "0              -0.071522               0.000233    L2\n",
       "1              -0.128266               0.001321    L2\n",
       "2              -0.171527               0.015428    L1\n",
       "3              -0.170692              -0.007822    L4\n",
       "4              -0.076918              -0.007369    L3"
      ]
     },
     "execution_count": 203,
     "metadata": {},
     "output_type": "execute_result"
    }
   ],
   "source": [
    "principal_df.head()"
   ]
  },
  {
   "cell_type": "code",
   "execution_count": 204,
   "metadata": {
    "scrolled": true
   },
   "outputs": [
    {
     "data": {
      "image/png": "[encoded data removed]",
      "text/plain": [
       "<Figure size 576x576 with 1 Axes>"
      ]
     },
     "metadata": {
      "needs_background": "light"
     },
     "output_type": "display_data"
    }
   ],
   "source": [
    "fig = plt.figure(figsize = (8,8))\n",
    "ax = fig.add_subplot(1,1,1) \n",
    "ax.set_xlabel('Principal Component 1', fontsize = 15)\n",
    "ax.set_ylabel('Principal Component 2', fontsize = 15)\n",
    "ax.set_title('2 component PCA', fontsize = 20)\n",
    "targets = ['L1', 'L2', 'L3', 'L4']\n",
    "colors = ['#0000FF', '#00FF00', '#FFFF00', '#FF0000']\n",
    "for target, color in zip(targets,colors):\n",
    "    indicesToKeep = principal_df['level'] == target\n",
    "    ax.scatter(principal_df.loc[indicesToKeep, 'principal component 1']\n",
    "               , principal_df.loc[indicesToKeep, 'principal component 2']\n",
    "               , c = color\n",
    "               , s = 50)\n",
    "ax.legend(targets)\n",
    "ax.grid()"
   ]
  },
  {
   "cell_type": "code",
   "execution_count": 207,
   "metadata": {},
   "outputs": [
    {
     "data": {
      "text/plain": [
       "array([9.99238608e-01, 7.38632852e-04])"
      ]
     },
     "execution_count": 207,
     "metadata": {},
     "output_type": "execute_result"
    }
   ],
   "source": [
    "pca.explained_variance_ratio_"
   ]
  },
  {
   "cell_type": "markdown",
   "metadata": {},
   "source": [
    "## Discussion"
   ]
  },
  {
   "cell_type": "markdown",
   "metadata": {},
   "source": [
    "The relationship between topology of complex networks and language complexity is studied. The above approach to identify group of texts with the same topological feature in the network, thereby, drawing a parallel between topological features and language complexity. \n",
    "\n",
    "We can use Complex Network approach for rapid screening of texts.\n",
    "\n"
   ]
  },
  {
   "cell_type": "markdown",
   "metadata": {},
   "source": [
    "Future work:\n",
    "\n",
    "1. Consider more network metrics to better differentiate the clusters.\n",
    "\n",
    "2. To examine change in each network metric across _reading levels_.\n",
    "\n",
    "3. Compare results of the above approach with _linguistic methods_ of calculating language complexity"
   ]
  }
 ],
 "metadata": {
  "accelerator": "GPU",
  "colab": {
   "collapsed_sections": [],
   "name": "Untitled2.ipynb",
   "provenance": [],
   "version": "0.3.2"
  },
  "kernelspec": {
   "display_name": "Python 3",
   "language": "python",
   "name": "python3"
  },
  "language_info": {
   "codemirror_mode": {
    "name": "ipython",
    "version": 3
   },
   "file_extension": ".py",
   "mimetype": "text/x-python",
   "name": "python",
   "nbconvert_exporter": "python",
   "pygments_lexer": "ipython3",
   "version": "3.7.4"
  }
 },
 "nbformat": 4,
 "nbformat_minor": 1
}
